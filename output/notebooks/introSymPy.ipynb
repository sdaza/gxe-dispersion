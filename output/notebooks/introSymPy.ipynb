{
 "cells": [
  {
   "cell_type": "markdown",
   "source": [
    "## Deriving some equations"
   ],
   "metadata": {}
  },
  {
   "cell_type": "code",
   "execution_count": 1,
   "source": [
    "from sympy import *\r\n",
    "init_printing()"
   ],
   "outputs": [
    {
     "output_type": "error",
     "ename": "ModuleNotFoundError",
     "evalue": "No module named 'sympy'",
     "traceback": [
      "\u001b[1;31m---------------------------------------------------------------------------\u001b[0m",
      "\u001b[1;31mModuleNotFoundError\u001b[0m                       Traceback (most recent call last)",
      "\u001b[1;32m<ipython-input-1-a68b40ca237f>\u001b[0m in \u001b[0;36m<module>\u001b[1;34m\u001b[0m\n\u001b[1;32m----> 1\u001b[1;33m \u001b[1;32mfrom\u001b[0m \u001b[0msympy\u001b[0m \u001b[1;32mimport\u001b[0m \u001b[1;33m*\u001b[0m\u001b[1;33m\u001b[0m\u001b[1;33m\u001b[0m\u001b[0m\n\u001b[0m\u001b[0;32m      2\u001b[0m \u001b[0minit_printing\u001b[0m\u001b[1;33m(\u001b[0m\u001b[1;33m)\u001b[0m\u001b[1;33m\u001b[0m\u001b[1;33m\u001b[0m\u001b[0m\n",
      "\u001b[1;31mModuleNotFoundError\u001b[0m: No module named 'sympy'"
     ]
    }
   ],
   "metadata": {}
  },
  {
   "cell_type": "code",
   "execution_count": null,
   "source": [
    "                 Scaling        Interaction    Scaling + Interaction  Domingue's simulation\r\n",
    "-------------------------------------------------------------------------------------------\r\n",
    "Intercept           0.01           0.00          -0.01                   0.00              \r\n",
    "                 [-0.05; 0.06]  [-0.03; 0.04]  [-0.06; 0.05]          [-0.02;  0.02]       \r\n",
    "sigma_Intercept     0.56 *         0.10 *         0.57 *                -0.72 *            \r\n",
    "                 [ 0.54; 0.58]  [ 0.08; 0.13]  [ 0.54; 0.59]          [-0.74; -0.70]       \r\n",
    "g                   0.57 *         0.50 *         0.56 *                 0.62 *            \r\n",
    "                 [ 0.51; 0.63]  [ 0.46; 0.54]  [ 0.50; 0.62]          [ 0.60;  0.64]       \r\n",
    "E                   0.50 *         0.80 *         0.50 *                 0.50 *            \r\n",
    "                 [ 0.45; 0.55]  [ 0.77; 0.82]  [ 0.45; 0.56]          [ 0.49;  0.51]       \r\n",
    "g:E                 0.14 *         0.20 *         0.24 *                 0.16 *            \r\n",
    "                 [ 0.10; 0.19]  [ 0.17; 0.23]  [ 0.19; 0.29]          [ 0.14;  0.17]       \r\n",
    "sigma_E             0.14 *         0.40 *         0.14 *                 0.27 *            \r\n",
    "                 [ 0.12; 0.16]  [ 0.38; 0.42]  [ 0.12; 0.17]          [ 0.25;  0.30]       \r\n",
    "-------------------------------------------------------------------------------------------\r\n",
    "R^2                 0.15           0.36           0.16                   0.71    "
   ],
   "outputs": [],
   "metadata": {}
  },
  {
   "cell_type": "code",
   "execution_count": 77,
   "source": [
    "a1, a2, b0, b1, h, e, t1, p0, p1, l0, l1 = symbols(\"a1 a2 b0 b1 h e t1 p0 p1 l0 l1\")\r\n",
    "\r\n",
    "e1 = Eq(t1, a1)\r\n",
    "e2 = Eq(p0, b0*h)\r\n",
    "e3 = Eq(p1, a2 + b1*h)\r\n",
    "e4 = Eq(l0, b0*e)\r\n",
    "e5 = Eq(l1, b1*e)\r\n",
    "e6 = Eq(1, h**2 + e**2)"
   ],
   "outputs": [],
   "metadata": {}
  },
  {
   "cell_type": "code",
   "execution_count": 78,
   "source": [
    "r = solve([e1, e2, e3, e4, e5, e6], (a1, a2, b0, b1, h, e))\r\n",
    "r"
   ],
   "outputs": [
    {
     "output_type": "execute_result",
     "data": {
      "text/latex": [
       "$\\displaystyle \\left[ \\left( t_{1}, \\  - \\frac{- l_{0} p_{1} + l_{1} p_{0}}{l_{0}}, \\  - \\left(l_{0}^{2} + p_{0}^{2}\\right) \\sqrt{\\frac{1}{l_{0}^{2} + p_{0}^{2}}}, \\  - \\frac{l_{1} \\left(l_{0}^{2} + p_{0}^{2}\\right) \\sqrt{\\frac{1}{l_{0}^{2} + p_{0}^{2}}}}{l_{0}}, \\  - p_{0} \\sqrt{\\frac{1}{l_{0}^{2} + p_{0}^{2}}}, \\  - l_{0} \\sqrt{\\frac{1}{l_{0}^{2} + p_{0}^{2}}}\\right), \\  \\left( t_{1}, \\  - \\frac{- l_{0} p_{1} + l_{1} p_{0}}{l_{0}}, \\  \\left(l_{0}^{2} + p_{0}^{2}\\right) \\sqrt{\\frac{1}{l_{0}^{2} + p_{0}^{2}}}, \\  \\frac{l_{1} \\left(l_{0}^{2} + p_{0}^{2}\\right) \\sqrt{\\frac{1}{l_{0}^{2} + p_{0}^{2}}}}{l_{0}}, \\  p_{0} \\sqrt{\\frac{1}{l_{0}^{2} + p_{0}^{2}}}, \\  l_{0} \\sqrt{\\frac{1}{l_{0}^{2} + p_{0}^{2}}}\\right)\\right]$"
      ],
      "image/png": "[encoded data removed]",
      "text/plain": [
       "⎡⎛                                                                            \n",
       "⎢⎜                                                           ⎛  2     2⎞     ╱\n",
       "⎢⎜                                                       -l₁⋅⎝l₀  + p₀ ⎠⋅   ╱ \n",
       "⎢⎜                                          ___________                    ╱  \n",
       "⎢⎜    -(-l₀⋅p₁ + l₁⋅p₀)    ⎛  2     2⎞     ╱     1                       ╲╱   \n",
       "⎢⎜t₁, ──────────────────, -⎝l₀  + p₀ ⎠⋅   ╱  ───────── , ─────────────────────\n",
       "⎢⎜            l₀                         ╱     2     2                   l₀   \n",
       "⎣⎝                                     ╲╱    l₀  + p₀                         \n",
       "\n",
       "___________                                             ⎞  ⎛                  \n",
       "     1                                                  ⎟  ⎜                  \n",
       " ─────────                                              ⎟  ⎜                  \n",
       "   2     2             ___________           ___________⎟  ⎜                  \n",
       " l₀  + p₀             ╱     1               ╱     1     ⎟  ⎜    -(-l₀⋅p₁ + l₁⋅\n",
       "────────────, -p₀⋅   ╱  ───────── , -l₀⋅   ╱  ───────── ⎟, ⎜t₁, ──────────────\n",
       "                    ╱     2     2         ╱     2     2 ⎟  ⎜            l₀    \n",
       "                  ╲╱    l₀  + p₀        ╲╱    l₀  + p₀  ⎠  ⎝                  \n",
       "\n",
       "                                                        ___________           \n",
       "                                       ⎛  2     2⎞     ╱     1                \n",
       "                                    l₁⋅⎝l₀  + p₀ ⎠⋅   ╱  ─────────            \n",
       "                       ___________                   ╱     2     2           _\n",
       "p₀)   ⎛  2     2⎞     ╱     1                      ╲╱    l₀  + p₀           ╱ \n",
       "────, ⎝l₀  + p₀ ⎠⋅   ╱  ───────── , ───────────────────────────────, p₀⋅   ╱  \n",
       "                    ╱     2     2                  l₀                     ╱   \n",
       "                  ╲╱    l₀  + p₀                                        ╲╱    \n",
       "\n",
       "                               ⎞⎤\n",
       "                               ⎟⎥\n",
       "                               ⎟⎥\n",
       "__________          ___________⎟⎥\n",
       "    1              ╱     1     ⎟⎥\n",
       "───────── , l₀⋅   ╱  ───────── ⎟⎥\n",
       "  2     2        ╱     2     2 ⎟⎥\n",
       "l₀  + p₀       ╲╱    l₀  + p₀  ⎠⎦"
      ]
     },
     "metadata": {},
     "execution_count": 78
    }
   ],
   "metadata": {}
  }
 ],
 "metadata": {
  "kernelspec": {
   "name": "python3",
   "display_name": "Python 3.8.3 64-bit ('base': conda)"
  },
  "language_info": {
   "codemirror_mode": {
    "name": "ipython",
    "version": 3
   },
   "file_extension": ".py",
   "mimetype": "text/x-python",
   "name": "python",
   "nbconvert_exporter": "python",
   "pygments_lexer": "ipython3",
   "version": "3.8.3"
  },
  "interpreter": {
   "hash": "ecf5722fdaf1897a315d257d89d94520bfcaa453217d5becf09b39e73618b0de"
  }
 },
 "nbformat": 4,
 "nbformat_minor": 5
}