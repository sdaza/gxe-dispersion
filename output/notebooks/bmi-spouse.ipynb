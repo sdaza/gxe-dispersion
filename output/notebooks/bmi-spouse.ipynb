{
 "cells": [
  {
   "cell_type": "markdown",
   "source": [
    "# Exploring spouses Method to estimate GxE\r\n",
    "\r\n",
    "- Following the literature of network effects, we can say there are three general mechanisms why spouses can be similar regarding any trait:\r\n",
    "    - Selection (similar spouses chose each other)\r\n",
    "    - Influence (spouses influence each other)\r\n",
    "    - Common exposure to an environment (spouses are affected by the same context, e.g., neighborhood)\r\n",
    "- To give some examples:\r\n",
    "    - My spouse can have a similar BMI because we were exposed to similar environments (e.g., parents' SES) due to selection (assortative mating) on exposures or associated traits\r\n",
    "    - My spouse and her preferences could influence me (e.g., I ended up eating more vegetables)\r\n",
    "    - I influence my wife. Influence effects, thus, are not always symmetric.\r\n",
    "    - Finally, we live in a neighborhood where there are few places to exercise, so we both don't exercise much.\r\n",
    "- We cannot distinguish between these effects easily (the classical problem of selection and influence in social networks)\r\n",
    "- Alberto proposes the formula below to estimate GxE, assuming that $BMI_w$ (of alter or wife) is a good proxy to different exposures:\r\n",
    "    - $BMI_h = \\delta_1 BMI_w + \\beta_1 G_h + \\gamma_1 G_h  BMI_w + \\epsilon_1$\r\n",
    "    - Following the effects defined above, $BMI_w$ would include: \r\n",
    "        - % shared previous environment (depending on how strong is assortative mating). This could be related to multiple traits and environments and would operate mostly through selection and assortative mating. Unfortunately, we cannot clearly distinguish what we mean by the environment in this case. \r\n",
    "        - % influence of husband on wife. This is not an environment/exposure for the husband (ego), but it would be in $\\delta_1$ and $\\gamma_1$.  It's the classical reflection issue of network effects.  We don't have longitudinal data to figure this out (BMI before and after knowing or living with the spouse)\r\n",
    "        - % influence of wife (alter) on husband (ego). This could be defined as exposure. \r\n",
    "        - % shared context (e.g., neighborhood effects, etc.)\r\n",
    "- Assortative mating on the phenotype might create some assortative mating on genes.\r\n",
    "\r\n",
    "\r\n"
   ],
   "metadata": {}
  },
  {
   "cell_type": "markdown",
   "source": [
    "# ABM\n",
    "\n",
    "To explore the causal model and estimation strategies, we can create a simple agent-based model for BMI:\n",
    "\n",
    "- Let's start with 1000 agents with a simple set of characteristics: \n",
    "    - **Environment** (E): a summary variable of all the exposure relevant to BMI before getting a spouse (normal distribution)\n",
    "    - **Polygenic score** (PG) (normal distribution)\n",
    "    - **Susceptibility** (S) to be influenced by a spouse (uniform, 0-1)\n",
    "- At some point in life, agents look for a spouse. They can do it randomly or based on the **environment** of the potential spouse. Agents pick up a random potential spouse, check her **environment** score, and if the difference with their score is lower than a threshold, they select her; otherwise, they keep looking for a spouse. After ten tries, they give up and select an agent randomly. \n",
    "- Once an agent got a spouse, the variable **household** (H) is defined (normal distribution), representing  a shared context and exposure for spouses. \n",
    "- It's also possible agents influence each other. The influence effect would depend on the **susceptibility** of each agent. \n",
    "- With these parts, we can define BMI. We define two BMIs: before having a partner, and after having a spouse:\n",
    "    - $BMI_0 = \\beta_1 \\times PG + \\beta_2 \\times E + \\beta_3 PG \\times E + \\epsilon_i$\n",
    "    - $BMI_1 = BMI_0 + \\beta_4 \\times S \\times BMI_0 + \\beta_5  \\times S \\times BMI_0  \\times PGS + \\beta_6  \\times H + \\beta_7 \\times H \\times PGS$\n",
    "- With this structure, we can generate some data. Some features: \n",
    "    - By construction, the simulation does not generation assortative mating on genes, but only on $E$. \n",
    "    - There is no selection on $S$, that could be changed. \n",
    "\n",
    "\n",
    "\n"
   ],
   "metadata": {}
  },
  {
   "cell_type": "code",
   "execution_count": 1,
   "source": [
    "from sympy import *\r\n",
    "init_printing()"
   ],
   "outputs": [],
   "metadata": {}
  },
  {
   "cell_type": "code",
   "execution_count": null,
   "source": [
    "a1, a2, b0, b1, h, e, t1, p0, p1, l0, l1 = symbols(\"a1 a2 b0 b1 h e t1 p0 p1 l0 l1\")\r\n",
    "\r\n",
    "e1 = Eq(t1, a1)\r\n",
    "e2 = Eq(p0, b0*h)\r\n",
    "e3 = Eq(p1, a2 + b1*h)\r\n",
    "e4 = Eq(l0, b0*e)\r\n",
    "e5 = Eq(l1, b1*e)\r\n",
    "e6 = Eq(1, h**2 + e**2)"
   ],
   "outputs": [],
   "metadata": {}
  }
 ],
 "metadata": {
  "orig_nbformat": 4,
  "language_info": {
   "name": "python",
   "version": "3.8.3",
   "mimetype": "text/x-python",
   "codemirror_mode": {
    "name": "ipython",
    "version": 3
   },
   "pygments_lexer": "ipython3",
   "nbconvert_exporter": "python",
   "file_extension": ".py"
  },
  "kernelspec": {
   "name": "python3",
   "display_name": "Python 3.8.3 64-bit ('base': conda)"
  },
  "interpreter": {
   "hash": "ecf5722fdaf1897a315d257d89d94520bfcaa453217d5becf09b39e73618b0de"
  }
 },
 "nbformat": 4,
 "nbformat_minor": 2
}