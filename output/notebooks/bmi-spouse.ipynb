{
 "cells": [
  {
   "cell_type": "markdown",
   "source": [
    "# Exploring spouses methods to estimate GxE\n",
    "\n",
    "- Following the literature of network effects, we can say there are three general mechanisms why spouses can be similar regarding any trait:\n",
    "    - Selection (similar spouses chose each other)\n",
    "    - Influence (spouses influence each other)\n",
    "    - Common exposure to an environment (spouses are affected by the same context, e.g., neighborhood)\n",
    "- To give some examples:\n",
    "    - My spouse can have a similar BMI because we were exposed to similar environments (e.g., parents' SES) due to selection (assortative mating) on exposures or associated traits\n",
    "    - My spouse and her preferences could influence me (e.g., I ended up eating more vegetables)\n",
    "    - I influence my wife. Influence effects, thus, are not always symmetric.\n",
    "    - Finally, we live in a neighborhood where there are few places to exercise, so we both don't exercise much.\n",
    "- We cannot distinguish between these effects easily (the classical problem of selection and influence in social networks)\n",
    "- Alberto proposes the formula below to estimate GxE, assuming that $BMI_w$ (of alter or wife) is a good proxy to different exposures:\n",
    "    - $BMI_h = \\delta_1 BMI_w + \\beta_1 G_h + \\gamma_1 G_h  BMI_w + \\epsilon_1$\n",
    "    - Following the effects defined above, $BMI_w$ would include: \n",
    "        - % shared previous environment (depending on how strong is assortative mating). This could be related to multiple traits and environments and would operate mostly through selection and assortative mating. Unfortunately, we cannot clearly distinguish what we mean by the environment in this case. \n",
    "        - % influence of husband on wife. This is not an environment/exposure for the husband (ego), but it would be in $\\delta_1$ and $\\gamma_1$.  It's the classical reflection issue of network effects.  We don't have longitudinal data to figure this out (BMI before and after knowing or living with the spouse)\n",
    "        - % influence of wife (alter) on husband (ego). This could be defined as exposure. \n",
    "        - % shared context (e.g., neighborhood effects, etc.)\n",
    "- Assortative mating on the phenotype might create some assortative mating on genes.\n",
    "\n",
    "\n"
   ],
   "metadata": {}
  },
  {
   "cell_type": "markdown",
   "source": [
    "# ABM\n",
    "\n",
    "To explore the causal model and estimation strategies, we can create a simple agent-based model for BMI:\n",
    "\n",
    "- Let's start with 2000 agents with a simple set of characteristics: \n",
    "    - **Environment** (E): a summary variable of all the exposure relevant to BMI before getting a spouse (normal distribution)\n",
    "    - **Polygenic score** (PG) (normal distribution)\n",
    "    - **Susceptibility** (S) to be influenced by a spouse (0-1)\n",
    "- At some point in life, agents look for a spouse. They can do it randomly or based on the **environment** of the potential spouse. Agents pick up a random potential spouse, check her **environment** score, and if the difference with their score is lower than a threshold, they select her; otherwise, they keep looking for a spouse. After 20 tries, they give up and select a random agent. \n",
    "- Once an agent got a spouse, the variable **household** (H) is defined using $E_h$ and $E_w$ (normal distribution + noise), representing  a shared context and exposure for spouses. In other words, ego and alter will have the same $H$ values.\n",
    "- It's also possible agents influence each other. The influence effect would depend on the **susceptibility** of each agent. \n",
    "- With these parts, we can define BMI. We define two BMIs: before having a partner, and after having a spouse:\n",
    "    - $BMI_0 = \\beta_1 \\times PG + \\beta_2 \\times E + \\beta_3 PG \\times E + \\epsilon_i$\n",
    "    - $BMI_1 = BMI_0 + \\beta_4 \\times S \\times BMI_{w_0} + \\beta_5  \\times S \\times BMI_{w_0}   \\times PGS + \\beta_6  \\times H + \\beta_7 \\times H \\times PGS$\n",
    "\n",
    "- With this structure, we can generate some data. Some features: \n",
    "    - By construction, the simulation does not generate assortative mating on genes, but only on $E$\n",
    "    - E is just a summary index, it could include multiple traits and exposures\n",
    "    - There is no selection on $S$, that could be modified\n",
    "\n",
    "\n",
    "\n"
   ],
   "metadata": {}
  },
  {
   "cell_type": "markdown",
   "source": [
    "# Simulation\n",
    "\n",
    "- Created 10 random datasets with a baseline scenario\n",
    "- Baseline scenario:\n",
    "    - $\\beta_3 = 0.10$\n",
    "    - $\\beta_5 = 0.15$\n",
    "    - $\\beta_7 = 0.10$\n",
    "    - Susceptibility ($S$)\n",
    "        - $S = 0$: none\n",
    "        - $S = 1$: total\n",
    "        - `uniform(0,1)`: random\n",
    "        - Ego = 1, Alter = 0: alternate\n",
    "- Estimate model \n",
    "    - $BMI_h = \\delta_1 BMI_w + \\beta_1 G_h + \\gamma_1 G_h  BMI_w + \\epsilon_1$\n"
   ],
   "metadata": {}
  },
  {
   "cell_type": "markdown",
   "source": [
    "#  Results\n",
    "\n",
    "The $BMI_w$ coefficient should be around 0.20 ($\\beta_3 + \\beta_7$). When susceptibility is not zero, it's not possible to distinguish the mechanism and reflection issue.\n",
    "\n",
    "```\n",
    "===========================================================================\n",
    "                none           total          random          alternate\n",
    "---------------------------------------------------------------------------\n",
    "Intercept         -0.01          -0.01          -0.01 *         -0.01\n",
    "                [-0.02; 0.01]  [-0.02; 0.01]  [-0.03; -0.00]  [-0.02; 0.01]\n",
    "pgs                0.19 *         0.17 *         0.18 *          0.21 *\n",
    "                [ 0.18; 0.21]  [ 0.16; 0.18]  [ 0.17;  0.20]  [ 0.19; 0.22]\n",
    "bmi_spouse         0.28 *         0.59 *         0.44 *          0.42 *\n",
    "                [ 0.25; 0.31]  [ 0.56; 0.62]  [ 0.41;  0.47]  [ 0.38; 0.45]\n",
    "pgs:bmi_spouse     0.15 *         0.26 *         0.25 *          0.25 *\n",
    "                [ 0.11; 0.18]  [ 0.23; 0.29]  [ 0.22;  0.28]  [ 0.22; 0.29]\n",
    "---------------------------------------------------------------------------\n",
    "Num. obs.       2000           2000           2000            2000\n",
    "WAIC            2075.42        1709.21        1982.59         2230.13\n",
    "===========================================================================\n",
    "* Null hypothesis value outside the confidence interval.\n",
    "```"
   ],
   "metadata": {}
  },
  {
   "cell_type": "markdown",
   "source": [],
   "metadata": {}
  }
 ],
 "metadata": {
  "orig_nbformat": 4,
  "language_info": {
   "name": "python",
   "version": "3.8.3",
   "mimetype": "text/x-python",
   "codemirror_mode": {
    "name": "ipython",
    "version": 3
   },
   "pygments_lexer": "ipython3",
   "nbconvert_exporter": "python",
   "file_extension": ".py"
  },
  "kernelspec": {
   "name": "python3",
   "display_name": "Python 3.8.3 64-bit ('base': conda)"
  },
  "interpreter": {
   "hash": "ecf5722fdaf1897a315d257d89d94520bfcaa453217d5becf09b39e73618b0de"
  }
 },
 "nbformat": 4,
 "nbformat_minor": 2
}