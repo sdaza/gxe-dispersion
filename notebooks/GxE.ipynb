{
 "cells": [
  {
   "cell_type": "markdown",
   "id": "statistical-sydney",
   "metadata": {},
   "source": [
    "# GxE problem\n",
    "\n",
    "- I updated the simulation function so that sigma is always positive (exponential)\n",
    "- I am adding the decomposition of the effects\n",
    "- 100 replicates per scenario\n",
    "\n",
    "### Next steps\n",
    "\n",
    "- Find specifications where the test would be misleading"
   ]
  },
  {
   "cell_type": "code",
   "execution_count": 38,
   "id": "vietnamese-composite",
   "metadata": {},
   "outputs": [],
   "source": [
    "library(brms)\n",
    "library(rstan)\n",
    "rstan_options(auto_write = TRUE)\n",
    "library(data.table)\n",
    "library(texreg)\n",
    "library(future)\n",
    "plan(multiprocess, workers = 3)\n",
    "source(\"../src/utils.R\")\n",
    "options(repr.plot.width=4, repr.plot.height=3)"
   ]
  },
  {
   "cell_type": "markdown",
   "id": "integrated-reflection",
   "metadata": {},
   "source": [
    "## Definition of error term"
   ]
  },
  {
   "cell_type": "code",
   "execution_count": 39,
   "id": "fabulous-taxation",
   "metadata": {},
   "outputs": [],
   "source": [
    "createData = function(..., N = 5000, sd = FALSE, print = FALSE) { \n",
    "\n",
    "    b0 = 0.8\n",
    "    b1 = 0.2\n",
    "    a = 0.5\n",
    "    h2 = 0.4\n",
    "    h = sqrt(h2)\n",
    "    e = sqrt(1-h^2)\n",
    "\n",
    "    E = rnorm(N,0,1)\n",
    "    g = rnorm(N,0,1)\n",
    "\n",
    "    if (print) {\n",
    "        print(paste0(\"b0*e = \", round(b0*e, 3), \" and b1*e = \", round(b1*e, 3))) \n",
    "        print(paste0(\"G = b0*h = \", round(b0*h, 3), \" and GxE = b1*h = \", round(b1*h, 3))) \n",
    "        print(paste0(\"f1 = \", round((b0*h)/(b0*e), 3), \" and f2 = \", round((b1*h)/(b1*e),3)))\n",
    "\n",
    "    }\n",
    "    sigma = sqrt((b0*e + b1*e*E)^2)\n",
    "    y = rnorm(N, a*E + b0*h*g + b1*h*E*g, sigma)\n",
    "    dat = data.frame(y, g, E)\n",
    "    if (sd) { sd(y) } else { dat }\n",
    "}"
   ]
  },
  {
   "cell_type": "code",
   "execution_count": 40,
   "id": "included-observer",
   "metadata": {},
   "outputs": [
    {
     "name": "stdout",
     "output_type": "stream",
     "text": [
      "[1] \"b0*e = 0.62 and b1*e = 0.155\"\n",
      "[1] \"G = b0*h = 0.506 and GxE = b1*h = 0.126\"\n",
      "[1] \"f1 = 0.816 and f2 = 0.816\"\n"
     ]
    }
   ],
   "source": [
    "values = replicate(100, createData(sd = TRUE))\n",
    "data_list = replicate(1, createData(sd = FALSE, print = TRUE), simplify = FALSE)\n",
    "dat = data.table(data_list[[1]])"
   ]
  },
  {
   "cell_type": "code",
   "execution_count": 131,
   "id": "headed-trail",
   "metadata": {},
   "outputs": [],
   "source": [
    "m0 = lm(y ~ -1 + g +E + g:E, data = dat)\n",
    "dat[, err := (y - predict(m0))^2]\n",
    "m1 = lm(err ~ 1 + E , data = dat)"
   ]
  },
  {
   "cell_type": "code",
   "execution_count": 132,
   "id": "loose-purchase",
   "metadata": {},
   "outputs": [
    {
     "data": {
      "text/plain": [
       "    Min.  1st Qu.   Median     Mean  3rd Qu.     Max. \n",
       " 0.00000  0.03399  0.15837  0.40493  0.50419 12.59055 "
      ]
     },
     "metadata": {},
     "output_type": "display_data"
    }
   ],
   "source": [
    "summary(dat$err)"
   ]
  },
  {
   "cell_type": "code",
   "execution_count": 133,
   "id": "logical-heater",
   "metadata": {},
   "outputs": [
    {
     "data": {
      "image/png": "[encoded data removed]",
      "text/plain": [
       "Plot with title \"Histogram of dat$err\""
      ]
     },
     "metadata": {
      "image/png": {
       "height": 180,
       "width": 240
      }
     },
     "output_type": "display_data"
    }
   ],
   "source": [
    "hist(dat$err)"
   ]
  },
  {
   "cell_type": "code",
   "execution_count": 134,
   "id": "speaking-asthma",
   "metadata": {},
   "outputs": [
    {
     "name": "stdout",
     "output_type": "stream",
     "text": [
      "\n",
      "=====================================\n",
      "             Model 1      Model 2    \n",
      "-------------------------------------\n",
      "g               0.50 ***             \n",
      "               (0.01)                \n",
      "E               0.51 ***     0.19 ***\n",
      "               (0.01)       (0.01)   \n",
      "g:E             0.11 ***             \n",
      "               (0.01)                \n",
      "(Intercept)                  0.41 ***\n",
      "                            (0.01)   \n",
      "-------------------------------------\n",
      "R^2             0.57         0.08    \n",
      "Adj. R^2        0.57         0.08    \n",
      "Num. obs.    5000         5000       \n",
      "=====================================\n",
      "*** p < 0.001; ** p < 0.01; * p < 0.05\n"
     ]
    }
   ],
   "source": [
    "cat(screenreg(list(m0, m1)))\n"
   ]
  },
  {
   "cell_type": "code",
   "execution_count": 41,
   "id": "piano-biotechnology",
   "metadata": {},
   "outputs": [
    {
     "name": "stderr",
     "output_type": "stream",
     "text": [
      "Compiling Stan program...\n",
      "\n",
      "Start sampling\n",
      "\n"
     ]
    },
    {
     "name": "stdout",
     "output_type": "stream",
     "text": [
      "\n",
      "SAMPLING FOR MODEL '45fff11fd147af7536503765a97376e0' NOW (CHAIN 1).\n",
      "Chain 1: \n",
      "Chain 1: Gradient evaluation took 0.004376 seconds\n",
      "Chain 1: 1000 transitions using 10 leapfrog steps per transition would take 43.76 seconds.\n",
      "Chain 1: Adjust your expectations accordingly!\n",
      "Chain 1: \n",
      "Chain 1: \n",
      "Chain 1: Iteration:    1 / 2000 [  0%]  (Warmup)\n",
      "Chain 1: Iteration:  200 / 2000 [ 10%]  (Warmup)\n",
      "Chain 1: Iteration:  400 / 2000 [ 20%]  (Warmup)\n",
      "Chain 1: Iteration:  600 / 2000 [ 30%]  (Warmup)\n",
      "Chain 1: Iteration:  800 / 2000 [ 40%]  (Warmup)\n",
      "Chain 1: Iteration: 1000 / 2000 [ 50%]  (Warmup)\n",
      "Chain 1: Iteration: 1001 / 2000 [ 50%]  (Sampling)\n",
      "Chain 1: Iteration: 1200 / 2000 [ 60%]  (Sampling)\n",
      "Chain 1: Iteration: 1400 / 2000 [ 70%]  (Sampling)\n",
      "Chain 1: Iteration: 1600 / 2000 [ 80%]  (Sampling)\n",
      "Chain 1: Iteration: 1800 / 2000 [ 90%]  (Sampling)\n",
      "Chain 1: Iteration: 2000 / 2000 [100%]  (Sampling)\n",
      "Chain 1: \n",
      "Chain 1:  Elapsed Time: 4.74746 seconds (Warm-up)\n",
      "Chain 1:                4.83871 seconds (Sampling)\n",
      "Chain 1:                9.58617 seconds (Total)\n",
      "Chain 1: \n",
      "\n",
      "SAMPLING FOR MODEL '45fff11fd147af7536503765a97376e0' NOW (CHAIN 2).\n",
      "Chain 2: \n",
      "Chain 2: Gradient evaluation took 0.00078 seconds\n",
      "Chain 2: 1000 transitions using 10 leapfrog steps per transition would take 7.8 seconds.\n",
      "Chain 2: Adjust your expectations accordingly!\n",
      "Chain 2: \n",
      "Chain 2: \n",
      "Chain 2: Iteration:    1 / 2000 [  0%]  (Warmup)\n",
      "Chain 2: Iteration:  200 / 2000 [ 10%]  (Warmup)\n",
      "Chain 2: Iteration:  400 / 2000 [ 20%]  (Warmup)\n",
      "Chain 2: Iteration:  600 / 2000 [ 30%]  (Warmup)\n",
      "Chain 2: Iteration:  800 / 2000 [ 40%]  (Warmup)\n",
      "Chain 2: Iteration: 1000 / 2000 [ 50%]  (Warmup)\n",
      "Chain 2: Iteration: 1001 / 2000 [ 50%]  (Sampling)\n",
      "Chain 2: Iteration: 1200 / 2000 [ 60%]  (Sampling)\n",
      "Chain 2: Iteration: 1400 / 2000 [ 70%]  (Sampling)\n",
      "Chain 2: Iteration: 1600 / 2000 [ 80%]  (Sampling)\n",
      "Chain 2: Iteration: 1800 / 2000 [ 90%]  (Sampling)\n",
      "Chain 2: Iteration: 2000 / 2000 [100%]  (Sampling)\n",
      "Chain 2: \n",
      "Chain 2:  Elapsed Time: 4.88653 seconds (Warm-up)\n",
      "Chain 2:                4.87326 seconds (Sampling)\n",
      "Chain 2:                9.75979 seconds (Total)\n",
      "Chain 2: \n",
      "\n",
      "SAMPLING FOR MODEL '45fff11fd147af7536503765a97376e0' NOW (CHAIN 3).\n",
      "Chain 3: \n",
      "Chain 3: Gradient evaluation took 0.000813 seconds\n",
      "Chain 3: 1000 transitions using 10 leapfrog steps per transition would take 8.13 seconds.\n",
      "Chain 3: Adjust your expectations accordingly!\n",
      "Chain 3: \n",
      "Chain 3: \n",
      "Chain 3: Iteration:    1 / 2000 [  0%]  (Warmup)\n",
      "Chain 3: Iteration:  200 / 2000 [ 10%]  (Warmup)\n",
      "Chain 3: Iteration:  400 / 2000 [ 20%]  (Warmup)\n",
      "Chain 3: Iteration:  600 / 2000 [ 30%]  (Warmup)\n",
      "Chain 3: Iteration:  800 / 2000 [ 40%]  (Warmup)\n",
      "Chain 3: Iteration: 1000 / 2000 [ 50%]  (Warmup)\n",
      "Chain 3: Iteration: 1001 / 2000 [ 50%]  (Sampling)\n",
      "Chain 3: Iteration: 1200 / 2000 [ 60%]  (Sampling)\n",
      "Chain 3: Iteration: 1400 / 2000 [ 70%]  (Sampling)\n",
      "Chain 3: Iteration: 1600 / 2000 [ 80%]  (Sampling)\n",
      "Chain 3: Iteration: 1800 / 2000 [ 90%]  (Sampling)\n",
      "Chain 3: Iteration: 2000 / 2000 [100%]  (Sampling)\n",
      "Chain 3: \n",
      "Chain 3:  Elapsed Time: 4.69787 seconds (Warm-up)\n",
      "Chain 3:                4.79121 seconds (Sampling)\n",
      "Chain 3:                9.48908 seconds (Total)\n",
      "Chain 3: \n",
      "\n",
      "SAMPLING FOR MODEL '45fff11fd147af7536503765a97376e0' NOW (CHAIN 4).\n",
      "Chain 4: \n",
      "Chain 4: Gradient evaluation took 0.000796 seconds\n",
      "Chain 4: 1000 transitions using 10 leapfrog steps per transition would take 7.96 seconds.\n",
      "Chain 4: Adjust your expectations accordingly!\n",
      "Chain 4: \n",
      "Chain 4: \n",
      "Chain 4: Iteration:    1 / 2000 [  0%]  (Warmup)\n",
      "Chain 4: Iteration:  200 / 2000 [ 10%]  (Warmup)\n",
      "Chain 4: Iteration:  400 / 2000 [ 20%]  (Warmup)\n",
      "Chain 4: Iteration:  600 / 2000 [ 30%]  (Warmup)\n",
      "Chain 4: Iteration:  800 / 2000 [ 40%]  (Warmup)\n",
      "Chain 4: Iteration: 1000 / 2000 [ 50%]  (Warmup)\n",
      "Chain 4: Iteration: 1001 / 2000 [ 50%]  (Sampling)\n",
      "Chain 4: Iteration: 1200 / 2000 [ 60%]  (Sampling)\n",
      "Chain 4: Iteration: 1400 / 2000 [ 70%]  (Sampling)\n",
      "Chain 4: Iteration: 1600 / 2000 [ 80%]  (Sampling)\n",
      "Chain 4: Iteration: 1800 / 2000 [ 90%]  (Sampling)\n",
      "Chain 4: Iteration: 2000 / 2000 [100%]  (Sampling)\n",
      "Chain 4: \n",
      "Chain 4:  Elapsed Time: 5.00607 seconds (Warm-up)\n",
      "Chain 4:                4.72793 seconds (Sampling)\n",
      "Chain 4:                9.734 seconds (Total)\n",
      "Chain 4: \n"
     ]
    }
   ],
   "source": [
    "f0 = bf(y ~ g + E + g * E, sigma ~ 1 + E)\n",
    "fit0 = brm(f0, data = dat, \n",
    "    family = brmsfamily(\"gaussian\", link_sigma = \"softplus\"))"
   ]
  },
  {
   "cell_type": "code",
   "execution_count": 42,
   "id": "confirmed-valuation",
   "metadata": {},
   "outputs": [
    {
     "data": {
      "text/plain": [
       " Family: gaussian \n",
       "  Links: mu = identity; sigma = softplus \n",
       "Formula: y ~ g + E + g * E \n",
       "         sigma ~ 1 + E\n",
       "   Data: dat (Number of observations: 5000) \n",
       "Samples: 4 chains, each with iter = 2000; warmup = 1000; thin = 1;\n",
       "         total post-warmup samples = 4000\n",
       "\n",
       "Population-Level Effects: \n",
       "                Estimate Est.Error l-95% CI u-95% CI Rhat Bulk_ESS Tail_ESS\n",
       "Intercept          -0.00      0.01    -0.02     0.01 1.00     4484     3309\n",
       "sigma_Intercept    -0.20      0.01    -0.23    -0.17 1.00     5321     2777\n",
       "g                   0.51      0.01     0.49     0.53 1.00     4195     2928\n",
       "E                   0.49      0.01     0.48     0.51 1.00     4604     2931\n",
       "g:E                 0.12      0.01     0.11     0.14 1.00     4508     3035\n",
       "sigma_E             0.36      0.01     0.33     0.39 1.00     5588     2651\n",
       "\n",
       "Samples were drawn using sampling(NUTS). For each parameter, Bulk_ESS\n",
       "and Tail_ESS are effective sample size measures, and Rhat is the potential\n",
       "scale reduction factor on split chains (at convergence, Rhat = 1)."
      ]
     },
     "metadata": {},
     "output_type": "display_data"
    }
   ],
   "source": [
    "summary(fit0)"
   ]
  },
  {
   "cell_type": "code",
   "execution_count": 142,
   "id": "possible-flower",
   "metadata": {},
   "outputs": [
    {
     "data": {
      "text/html": [
       "1.30996445073325"
      ],
      "text/latex": [
       "1.30996445073325"
      ],
      "text/markdown": [
       "1.30996445073325"
      ],
      "text/plain": [
       "[1] 1.309964"
      ]
     },
     "metadata": {},
     "output_type": "display_data"
    }
   ],
   "source": []
  },
  {
   "cell_type": "code",
   "execution_count": 143,
   "id": "vietnamese-creek",
   "metadata": {},
   "outputs": [
    {
     "data": {
      "text/html": [
       "0.7"
      ],
      "text/latex": [
       "0.7"
      ],
      "text/markdown": [
       "0.7"
      ],
      "text/plain": [
       "[1] 0.7"
      ]
     },
     "metadata": {},
     "output_type": "display_data"
    }
   ],
   "source": [
    "1*0.70"
   ]
  },
  {
   "cell_type": "code",
   "execution_count": 12,
   "id": "precise-bachelor",
   "metadata": {},
   "outputs": [],
   "source": [
    "f1 = bf(y ~ g + E + g * E) + \n",
    "    nlf(sigma ~ (sqrt(vest))^2) + \n",
    "    lf(vest ~  1 + E)\n",
    "\n",
    "f2 = bf(y ~ g + E + g * E) + \n",
    "    nlf(sigma ~ sqrt(vest^2)) + \n",
    "    lf(vest ~  1 + E)"
   ]
  },
  {
   "cell_type": "code",
   "execution_count": 33,
   "id": "ceramic-spread",
   "metadata": {},
   "outputs": [
    {
     "name": "stderr",
     "output_type": "stream",
     "text": [
      "Compiling Stan program...\n",
      "\n",
      "recompiling to avoid crashing R session\n",
      "\n",
      "Start sampling\n",
      "\n"
     ]
    },
    {
     "name": "stdout",
     "output_type": "stream",
     "text": [
      "\n",
      "SAMPLING FOR MODEL 'd09864098b57f1c76751f207d6772a81' NOW (CHAIN 1).\n",
      "Chain 1: Rejecting initial value:\n",
      "Chain 1:   Error evaluating the log probability at the initial value.\n",
      "Chain 1: Exception: normal_lpdf: Scale parameter[1] is nan, but must be > 0!  (in 'model15ac15816ab75_d09864098b57f1c76751f207d6772a81' at line 42)\n",
      "\n",
      "Chain 1: \n",
      "Chain 1: Gradient evaluation took 0.002286 seconds\n",
      "Chain 1: 1000 transitions using 10 leapfrog steps per transition would take 22.86 seconds.\n",
      "Chain 1: Adjust your expectations accordingly!\n",
      "Chain 1: \n",
      "Chain 1: \n",
      "Chain 1: Iteration:    1 / 6000 [  0%]  (Warmup)\n",
      "Chain 1: Iteration:  600 / 6000 [ 10%]  (Warmup)\n",
      "Chain 1: Iteration: 1001 / 6000 [ 16%]  (Sampling)\n",
      "Chain 1: Iteration: 1600 / 6000 [ 26%]  (Sampling)\n",
      "Chain 1: Iteration: 2200 / 6000 [ 36%]  (Sampling)\n",
      "Chain 1: Iteration: 2800 / 6000 [ 46%]  (Sampling)\n",
      "Chain 1: Iteration: 3400 / 6000 [ 56%]  (Sampling)\n",
      "Chain 1: Iteration: 4000 / 6000 [ 66%]  (Sampling)\n",
      "Chain 1: Iteration: 4600 / 6000 [ 76%]  (Sampling)\n",
      "Chain 1: Iteration: 5200 / 6000 [ 86%]  (Sampling)\n",
      "Chain 1: Iteration: 5800 / 6000 [ 96%]  (Sampling)\n",
      "Chain 1: Iteration: 6000 / 6000 [100%]  (Sampling)\n",
      "Chain 1: \n",
      "Chain 1:  Elapsed Time: 23.1176 seconds (Warm-up)\n",
      "Chain 1:                39.9312 seconds (Sampling)\n",
      "Chain 1:                63.0488 seconds (Total)\n",
      "Chain 1: \n",
      "\n",
      "SAMPLING FOR MODEL 'd09864098b57f1c76751f207d6772a81' NOW (CHAIN 2).\n",
      "Chain 2: Rejecting initial value:\n",
      "Chain 2:   Error evaluating the log probability at the initial value.\n",
      "Chain 2: Exception: normal_lpdf: Scale parameter[31] is nan, but must be > 0!  (in 'model15ac15816ab75_d09864098b57f1c76751f207d6772a81' at line 42)\n",
      "\n",
      "Chain 2: Rejecting initial value:\n",
      "Chain 2:   Error evaluating the log probability at the initial value.\n",
      "Chain 2: Exception: normal_lpdf: Scale parameter[1] is nan, but must be > 0!  (in 'model15ac15816ab75_d09864098b57f1c76751f207d6772a81' at line 42)\n",
      "\n",
      "Chain 2: Rejecting initial value:\n",
      "Chain 2:   Error evaluating the log probability at the initial value.\n",
      "Chain 2: Exception: normal_lpdf: Scale parameter[1] is nan, but must be > 0!  (in 'model15ac15816ab75_d09864098b57f1c76751f207d6772a81' at line 42)\n",
      "\n",
      "Chain 2: Rejecting initial value:\n",
      "Chain 2:   Error evaluating the log probability at the initial value.\n",
      "Chain 2: Exception: normal_lpdf: Scale parameter[35] is nan, but must be > 0!  (in 'model15ac15816ab75_d09864098b57f1c76751f207d6772a81' at line 42)\n",
      "\n",
      "Chain 2: Rejecting initial value:\n",
      "Chain 2:   Error evaluating the log probability at the initial value.\n",
      "Chain 2: Exception: normal_lpdf: Scale parameter[1] is nan, but must be > 0!  (in 'model15ac15816ab75_d09864098b57f1c76751f207d6772a81' at line 42)\n",
      "\n",
      "Chain 2: Rejecting initial value:\n",
      "Chain 2:   Error evaluating the log probability at the initial value.\n",
      "Chain 2: Exception: normal_lpdf: Scale parameter[1] is nan, but must be > 0!  (in 'model15ac15816ab75_d09864098b57f1c76751f207d6772a81' at line 42)\n",
      "\n",
      "Chain 2: Rejecting initial value:\n",
      "Chain 2:   Error evaluating the log probability at the initial value.\n",
      "Chain 2: Exception: normal_lpdf: Scale parameter[50] is nan, but must be > 0!  (in 'model15ac15816ab75_d09864098b57f1c76751f207d6772a81' at line 42)\n",
      "\n",
      "Chain 2: Rejecting initial value:\n",
      "Chain 2:   Error evaluating the log probability at the initial value.\n",
      "Chain 2: Exception: normal_lpdf: Scale parameter[1] is nan, but must be > 0!  (in 'model15ac15816ab75_d09864098b57f1c76751f207d6772a81' at line 42)\n",
      "\n",
      "Chain 2: Rejecting initial value:\n",
      "Chain 2:   Error evaluating the log probability at the initial value.\n",
      "Chain 2: Exception: normal_lpdf: Scale parameter[1] is nan, but must be > 0!  (in 'model15ac15816ab75_d09864098b57f1c76751f207d6772a81' at line 42)\n",
      "\n",
      "Chain 2: Rejecting initial value:\n",
      "Chain 2:   Error evaluating the log probability at the initial value.\n",
      "Chain 2: Exception: normal_lpdf: Scale parameter[3] is nan, but must be > 0!  (in 'model15ac15816ab75_d09864098b57f1c76751f207d6772a81' at line 42)\n",
      "\n",
      "Chain 2: \n",
      "Chain 2: Gradient evaluation took 0.000601 seconds\n",
      "Chain 2: 1000 transitions using 10 leapfrog steps per transition would take 6.01 seconds.\n",
      "Chain 2: Adjust your expectations accordingly!\n",
      "Chain 2: \n",
      "Chain 2: \n",
      "Chain 2: Iteration:    1 / 6000 [  0%]  (Warmup)\n",
      "Chain 2: Iteration:  600 / 6000 [ 10%]  (Warmup)\n",
      "Chain 2: Iteration: 1001 / 6000 [ 16%]  (Sampling)\n",
      "Chain 2: Iteration: 1600 / 6000 [ 26%]  (Sampling)\n",
      "Chain 2: Iteration: 2200 / 6000 [ 36%]  (Sampling)\n",
      "Chain 2: Iteration: 2800 / 6000 [ 46%]  (Sampling)\n",
      "Chain 2: Iteration: 3400 / 6000 [ 56%]  (Sampling)\n",
      "Chain 2: Iteration: 4000 / 6000 [ 66%]  (Sampling)\n",
      "Chain 2: Iteration: 4600 / 6000 [ 76%]  (Sampling)\n",
      "Chain 2: Iteration: 5200 / 6000 [ 86%]  (Sampling)\n",
      "Chain 2: Iteration: 5800 / 6000 [ 96%]  (Sampling)\n",
      "Chain 2: Iteration: 6000 / 6000 [100%]  (Sampling)\n",
      "Chain 2: \n",
      "Chain 2:  Elapsed Time: 9.86746 seconds (Warm-up)\n",
      "Chain 2:                41.5285 seconds (Sampling)\n",
      "Chain 2:                51.396 seconds (Total)\n",
      "Chain 2: \n"
     ]
    },
    {
     "name": "stderr",
     "output_type": "stream",
     "text": [
      "Warning message:\n",
      "“There were 1 divergent transitions after warmup. See\n",
      "http://mc-stan.org/misc/warnings.html#divergent-transitions-after-warmup\n",
      "to find out why this is a problem and how to eliminate them.”\n",
      "Warning message:\n",
      "“Examine the pairs() plot to diagnose sampling problems\n",
      "”\n"
     ]
    }
   ],
   "source": [
    "fit1 = brm(f1, data = data_list, \n",
    "    family = brmsfamily(\"gaussian\", link_sigma = \"identity\"), iter = 6000, warmup = 1000, chains = 2,\n",
    "    prior = c(prior(student_t(7, 0, 8), class='b', coef = 'E', nlpar = 'vest')), \n",
    "    control = list(adapt_delta = 0.99))"
   ]
  },
  {
   "cell_type": "code",
   "execution_count": 34,
   "id": "separate-cement",
   "metadata": {},
   "outputs": [
    {
     "name": "stderr",
     "output_type": "stream",
     "text": [
      "Warning message:\n",
      "“There were 1 divergent transitions after warmup. Increasing adapt_delta above 0.99 may help. See http://mc-stan.org/misc/warnings.html#divergent-transitions-after-warmup”\n"
     ]
    },
    {
     "data": {
      "text/plain": [
       " Family: gaussian \n",
       "  Links: mu = identity; sigma = identity \n",
       "Formula: y ~ g + E + g * E \n",
       "         sigma ~ (sqrt(vest))^2\n",
       "         vest ~ 1 + E\n",
       "   Data: data_list (Number of observations: 5000) \n",
       "Samples: 2 chains, each with iter = 6000; warmup = 1000; thin = 1;\n",
       "         total post-warmup samples = 10000\n",
       "\n",
       "Population-Level Effects: \n",
       "               Estimate Est.Error l-95% CI u-95% CI Rhat Bulk_ESS Tail_ESS\n",
       "Intercept          0.01      0.01    -0.01     0.03 1.00     7509     6501\n",
       "vest_Intercept     0.62      0.01     0.61     0.63 1.00     7327     6390\n",
       "vest_E             0.16      0.00     0.15     0.16 1.00     7370     7328\n",
       "g                  0.49      0.01     0.47     0.51 1.00     7278     7058\n",
       "E                  0.50      0.01     0.49     0.51 1.00     7160     7215\n",
       "g:E                0.13      0.01     0.12     0.14 1.00     7437     6831\n",
       "\n",
       "Samples were drawn using sampling(NUTS). For each parameter, Bulk_ESS\n",
       "and Tail_ESS are effective sample size measures, and Rhat is the potential\n",
       "scale reduction factor on split chains (at convergence, Rhat = 1)."
      ]
     },
     "metadata": {},
     "output_type": "display_data"
    }
   ],
   "source": [
    "summary(fit1)"
   ]
  },
  {
   "cell_type": "code",
   "execution_count": 27,
   "id": "fallen-object",
   "metadata": {},
   "outputs": [],
   "source": [
    "# to run texreg\n",
    "class(fit1) <- c(\"brmsfit\", class(fit1))"
   ]
  },
  {
   "cell_type": "code",
   "execution_count": 19,
   "id": "incorporated-candle",
   "metadata": {},
   "outputs": [
    {
     "name": "stdout",
     "output_type": "stream",
     "text": [
      "\n",
      "=============================\n",
      "                Model 1      \n",
      "-----------------------------\n",
      "Intercept          0.01      \n",
      "                [-0.00; 0.03]\n",
      "vest_Intercept     0.62 *    \n",
      "                [ 0.61; 0.63]\n",
      "vest_E             0.16 *    \n",
      "                [ 0.15; 0.16]\n",
      "g                  0.49 *    \n",
      "                [ 0.48; 0.51]\n",
      "E                  0.50 *    \n",
      "                [ 0.49; 0.51]\n",
      "g:E                0.13 *    \n",
      "                [ 0.12; 0.14]\n",
      "-----------------------------\n",
      "R^2                0.55      \n",
      "Num. obs.       5000         \n",
      "=============================\n",
      "* 0 outside the confidence interval.\n"
     ]
    }
   ],
   "source": [
    "suppressWarnings(cat(screenreg(fit1, \n",
    "    include.rsquared = TRUE,\n",
    "    include.nobs = TRUE,\n",
    "    include.loo.ic = FALSE,\n",
    "    reloo = FALSE,\n",
    "    include.waic = FALSE)))"
   ]
  },
  {
   "cell_type": "code",
   "execution_count": 35,
   "id": "answering-education",
   "metadata": {},
   "outputs": [
    {
     "data": {
      "text/plain": [
       "Hypothesis Tests for class b:\n",
       "                Hypothesis Estimate Est.Error CI.Lower CI.Upper Evid.Ratio\n",
       "1 (g*vest_E)-(g:E*v... = 0        0         0    -0.01        0         NA\n",
       "  Post.Prob Star\n",
       "1        NA     \n",
       "---\n",
       "'CI': 90%-CI for one-sided and 95%-CI for two-sided hypotheses.\n",
       "'*': For one-sided hypotheses, the posterior probability exceeds 95%;\n",
       "for two-sided hypotheses, the value tested against lies outside the 95%-CI.\n",
       "Posterior probabilities of point hypotheses assume equal prior probabilities."
      ]
     },
     "metadata": {},
     "output_type": "display_data"
    }
   ],
   "source": [
    "hyp <- \"g * vest_E = g:E * vest_Intercept\"\n",
    "(hyp <- hypothesis(fit1, hyp, alpha = 0.05))"
   ]
  },
  {
   "cell_type": "code",
   "execution_count": 36,
   "id": "compound-logistics",
   "metadata": {},
   "outputs": [
    {
     "data": {
      "image/png": "[encoded data removed]",
      "text/plain": [
       "plot without title"
      ]
     },
     "metadata": {
      "image/png": {
       "height": 180,
       "width": 240
      }
     },
     "output_type": "display_data"
    }
   ],
   "source": [
    "plot(hyp)"
   ]
  },
  {
   "cell_type": "code",
   "execution_count": 37,
   "id": "beautiful-motel",
   "metadata": {},
   "outputs": [
    {
     "data": {
      "text/html": [
       "<style>\n",
       ".dl-inline {width: auto; margin:0; padding: 0}\n",
       ".dl-inline>dt, .dl-inline>dd {float: none; width: auto; display: inline-block}\n",
       ".dl-inline>dt::after {content: \":\\0020\"; padding-right: .5ex}\n",
       ".dl-inline>dt:not(:first-of-type) {padding-left: .5ex}\n",
       "</style><dl class=dl-inline><dt>2.5%</dt><dd>-0.043</dd><dt>97.5%</dt><dd>0.137</dd></dl>\n"
      ],
      "text/latex": [
       "\\begin{description*}\n",
       "\\item[2.5\\textbackslash{}\\%] -0.043\n",
       "\\item[97.5\\textbackslash{}\\%] 0.137\n",
       "\\end{description*}\n"
      ],
      "text/markdown": [
       "2.5%\n",
       ":   -0.04397.5%\n",
       ":   0.137\n",
       "\n"
      ],
      "text/plain": [
       "  2.5%  97.5% \n",
       "-0.043  0.137 "
      ]
     },
     "metadata": {},
     "output_type": "display_data"
    },
    {
     "data": {
      "image/png": "[encoded data removed]",
      "text/plain": [
       "Plot with title “”"
      ]
     },
     "metadata": {
      "image/png": {
       "height": 180,
       "width": 240
      }
     },
     "output_type": "display_data"
    }
   ],
   "source": [
    "v = decompR(fit1, p0 = \"g\", p1 = \"g:E\", l0 = \"vest_intercept\", l1 = \"vest_e\")\n",
    "round(quantile(v, probs = c(0.025, 0.975)), 3)\n",
    "hist(v, main = \"\", xlab = \"decomp\")"
   ]
  },
  {
   "cell_type": "markdown",
   "id": "visible-bonus",
   "metadata": {},
   "source": [
    "## Functions"
   ]
  },
  {
   "cell_type": "code",
   "execution_count": 55,
   "id": "fluid-escape",
   "metadata": {
    "tags": []
   },
   "outputs": [],
   "source": [
    "# scaling model \n",
    "simScaling = function(E, a0 = 0, a1 = 0.5, b0 = 0.8, b1 = 0.2, h2 = 0.5) {\n",
    "    N = length(E)\n",
    "    G = rnorm(N,0,1)\n",
    "    h = sqrt(h2)\n",
    "    e = sqrt(1-h^2)\n",
    "    sigma = exp(b0*e + b1*e*E) \n",
    "    y = rnorm(N, a0 + a1*E + b0*h*G + b1*h*E*G, sigma)\n",
    "    df = data.frame(E = E, y = y, g = G)\n",
    "}\n",
    "\n",
    "# interaction model\n",
    "simInteraction = function(E, a0 = 0.0, a1 = 0.5, b0 = 0.8, b1 = 0.20, sb0 = 0.1, sb1 = 0.15) {\n",
    "    N = length(E)\n",
    "    G = rnorm(N,0,1)\n",
    "    sigma = exp(sb0 + sb1 * E) \n",
    "    y = rnorm(N, a0 + a1*G + b0*E + b1*G*E, sigma)\n",
    "    df = data.frame(E = E, y = y, g = G)\n",
    "}\n",
    "\n",
    "# interaction + scaling model\n",
    "simScalingInteraction = function(E, a0 = 0.0,  a1 = 0.5, a2 = 0.10, b0 = 0.8, b1 = 0.2, h2 = 0.5) {\n",
    "    N = length(E)\n",
    "    G = rnorm(N,0,1)\n",
    "    h = sqrt(h2)\n",
    "    e = sqrt(1-h^2)\n",
    "    sigma = exp(b0*e + b1*e*E) \n",
    "    y = rnorm(N, a0 + a1*E + a2*G*E + b0*h*G + b1*h*E*G, sigma)\n",
    "    df = data.frame(E = E, y = y, g = G)\n",
    "}\n",
    "\n",
    "# domingue's original function\n",
    "simDom = function(E,b0 = .8, b1 = .2, b2 = 0, b3 = .05, h = sqrt(.6), a =.5, sigma = 1, scaling = TRUE) {\n",
    "    N = length(E)\n",
    "    G = rnorm(N,0,1)\n",
    "    eps = rnorm(N,0,sigma)\n",
    "    if (scaling){\n",
    "        e = sqrt(1-h^2)\n",
    "        ystar = h*G+e*eps\n",
    "        y = a*E+(b0 + b1*E)*ystar\n",
    "    } else {\n",
    "        y = b1*G+b2*E+b3*G*E+eps\n",
    "    }\n",
    "    df = data.frame(E=E,y=y,g=G)\n",
    "}"
   ]
  },
  {
   "cell_type": "markdown",
   "id": "electronic-shoulder",
   "metadata": {},
   "source": [
    "## Simulating data"
   ]
  },
  {
   "cell_type": "code",
   "execution_count": 56,
   "id": "behavioral-poison",
   "metadata": {},
   "outputs": [],
   "source": [
    "E = rnorm(5000, 0, 1)\n",
    "replicates = 30\n",
    "dts = replicate(replicates, simScaling(E), simplify = FALSE)\n",
    "dti = replicate(replicates, simInteraction(E), simplify = FALSE)\n",
    "dtsi = replicate(replicates, simScalingInteraction(E), simplify = FALSE)\n",
    "dom = replicate(replicates, simDom(E, scaling = TRUE), simplify = FALSE)"
   ]
  },
  {
   "cell_type": "code",
   "execution_count": 57,
   "id": "european-sucking",
   "metadata": {
    "tags": []
   },
   "outputs": [
    {
     "name": "stdout",
     "output_type": "stream",
     "text": [
      "\n",
      "===================================================================================\n",
      "             Scaling      Interaction  Scaling + Interaction  Domingue's simulation\n",
      "-----------------------------------------------------------------------------------\n",
      "(Intercept)    -0.03         0.03        -0.01                  -0.00              \n",
      "               (0.02)       (0.02)       (0.03)                 (0.01)             \n",
      "g               0.59 ***     0.50 ***     0.56 ***               0.63 ***          \n",
      "               (0.02)       (0.02)       (0.03)                 (0.01)             \n",
      "E               0.49 ***     0.83 ***     0.50 ***               0.50 ***          \n",
      "               (0.02)       (0.02)       (0.03)                 (0.01)             \n",
      "g:E             0.14 ***     0.23 ***     0.28 ***               0.16 ***          \n",
      "               (0.02)       (0.02)       (0.03)                 (0.01)             \n",
      "-----------------------------------------------------------------------------------\n",
      "R^2             0.17         0.44         0.17                   0.70              \n",
      "Adj. R^2        0.17         0.44         0.17                   0.70              \n",
      "Num. obs.    5000         5000         5000                   5000                 \n",
      "===================================================================================\n",
      "*** p < 0.001; ** p < 0.01; * p < 0.05\n"
     ]
    }
   ],
   "source": [
    "cnames = c(\"Scaling\", \"Interaction\", \"Scaling + Interaction\", \"Domingue's simulation\")\n",
    "models = list()\n",
    "models[[1]] = lm(y ~ g + E + g * E, data = dts[[1]])\n",
    "models[[2]] = lm(y ~ g + E + g * E, data = dti[[1]])\n",
    "models[[3]] = lm(y ~ g + E + g * E, data = dtsi[[1]])\n",
    "models[[4]] = lm(y ~ g + E + g * E, data = dom[[1]])\n",
    "cat(screenreg(models, custom.model.names = cnames))"
   ]
  },
  {
   "cell_type": "markdown",
   "id": "sorted-gnome",
   "metadata": {},
   "source": [
    "\n",
    "# Bayesian distributional model\n"
   ]
  },
  {
   "cell_type": "code",
   "execution_count": 58,
   "id": "ahead-punch",
   "metadata": {},
   "outputs": [
    {
     "name": "stderr",
     "output_type": "stream",
     "text": [
      "Compiling the C++ model\n",
      "\n"
     ]
    }
   ],
   "source": [
    "# distributional model using bayesian stats\n",
    "f = bf(y ~ g + E + g * E, sigma ~ 1 + E)\n",
    "b1 = brm_multiple(f, data = dts, family = brmsfamily(\"gaussian\", link_sigma = \"log\"), chains = 1)\n",
    "b2 = brm_multiple(f, data = dti, family = brmsfamily(\"gaussian\", link_sigma = \"log\"), chains = 1)\n",
    "b3 = brm_multiple(f, data = dtsi, family = brmsfamily(\"gaussian\", link_sigma = \"log\"), chains = 1)\n",
    "b4 = brm_multiple(f, data = dom, family = brmsfamily(\"gaussian\", link_sigma = \"log\"), chains = 1)"
   ]
  },
  {
   "cell_type": "code",
   "execution_count": null,
   "id": "baking-storage",
   "metadata": {},
   "outputs": [],
   "source": [
    "# checking convergence of models\n",
    "rb1 = unlist(b1$rhats)\n",
    "rb2 = unlist(b2$rhats)\n",
    "rb3 = unlist(b3$rhats)\n",
    "rb4 = unlist(b4$rhats)\n",
    "print(table(rb1 > 1.05 | rb1 < 0.95))\n",
    "print(table(rb2 > 1.05 | rb2 < 0.95))\n",
    "print(table(rb3 > 1.05 | rb3 < 0.95))\n",
    "print(table(rb4 > 1.05 | rb4 < 0.95))"
   ]
  },
  {
   "cell_type": "code",
   "execution_count": null,
   "id": "spread-discount",
   "metadata": {},
   "outputs": [],
   "source": [
    "# able to recover the correct sigma coefficients \n",
    "suppressWarnings(cat(screenreg(list(b1, b2, b3, b4), custom.model.names = cnames, \n",
    "    use.HDI = TRUE,\n",
    "    include.rsquared = TRUE,\n",
    "    include.nobs = TRUE,\n",
    "    include.loo.ic = FALSE,\n",
    "    include.waic = FALSE)))"
   ]
  },
  {
   "cell_type": "markdown",
   "id": "treated-mixer",
   "metadata": {},
   "source": [
    "# Tests\n",
    "\n",
    "## Scaling"
   ]
  },
  {
   "cell_type": "code",
   "execution_count": null,
   "id": "precious-prime",
   "metadata": {},
   "outputs": [],
   "source": [
    "# I cannot reject the null hypothesis\n",
    "hyp <- \"g * sigma_E = g:E * sigma_Intercept\"\n",
    "(hyp <- hypothesis(b1, hyp, alpha = 0.05))"
   ]
  },
  {
   "cell_type": "code",
   "execution_count": null,
   "id": "emotional-facing",
   "metadata": {},
   "outputs": [],
   "source": [
    "plot(hyp)"
   ]
  },
  {
   "cell_type": "code",
   "execution_count": null,
   "id": "automatic-bangladesh",
   "metadata": {},
   "outputs": [],
   "source": [
    "# magnitude of the departure from the scaling model as a proportion of the total GxE effect\n",
    "hist(decompR(b1))"
   ]
  },
  {
   "cell_type": "markdown",
   "id": "confirmed-arena",
   "metadata": {},
   "source": [
    "## Interaction"
   ]
  },
  {
   "cell_type": "code",
   "execution_count": null,
   "id": "respiratory-thursday",
   "metadata": {},
   "outputs": [],
   "source": [
    "# I reject the null hypothesis\n",
    "hyp <- \"g * sigma_E = g:E * sigma_Intercept\"\n",
    "(hyp <- hypothesis(b2, hyp, alpha = 0.05))"
   ]
  },
  {
   "cell_type": "code",
   "execution_count": null,
   "id": "essential-estimate",
   "metadata": {},
   "outputs": [],
   "source": [
    "plot(hyp)"
   ]
  },
  {
   "cell_type": "code",
   "execution_count": null,
   "id": "technological-import",
   "metadata": {},
   "outputs": [],
   "source": [
    "# magnitude of the departure from the scaling model as a proportion of the total GxE effect\n",
    "hist(decompR(b2))"
   ]
  },
  {
   "cell_type": "markdown",
   "id": "adjustable-profit",
   "metadata": {},
   "source": [
    "## Interaction + Scaling"
   ]
  },
  {
   "cell_type": "code",
   "execution_count": null,
   "id": "ethical-composer",
   "metadata": {},
   "outputs": [],
   "source": [
    "hyp <- \"g * sigma_E = g:E * sigma_Intercept\"\n",
    "(hyp <- hypothesis(b3, hyp, alpha = 0.05))"
   ]
  },
  {
   "cell_type": "code",
   "execution_count": null,
   "id": "satisfied-statement",
   "metadata": {},
   "outputs": [],
   "source": [
    "plot(hyp)"
   ]
  },
  {
   "cell_type": "code",
   "execution_count": null,
   "id": "greatest-multimedia",
   "metadata": {},
   "outputs": [],
   "source": [
    "# magnitude of the departure from the scaling model as a proportion of the total GxE effect\n",
    "hist(decompR(b3))"
   ]
  },
  {
   "cell_type": "markdown",
   "id": "auburn-scotland",
   "metadata": {},
   "source": [
    "# Domingue's simulation"
   ]
  },
  {
   "cell_type": "code",
   "execution_count": null,
   "id": "large-bargain",
   "metadata": {},
   "outputs": [],
   "source": [
    "# wrong test\n",
    "hyp <- \"g * sigma_E = g:E * sigma_Intercept\"\n",
    "(hyp <- hypothesis(b4, hyp, alpha = 0.05))"
   ]
  },
  {
   "cell_type": "markdown",
   "id": "herbal-strap",
   "metadata": {},
   "source": [
    "# A more complex heritability function"
   ]
  },
  {
   "cell_type": "markdown",
   "id": "miniature-version",
   "metadata": {},
   "source": [
    "$$ V_P = V_G + V_E + Cov(V_G, V_E) + V_{HD}$$\n",
    "\n",
    "- G = Genetic info\n",
    "- E = Enviroment\n",
    "- HD = Developmental noise"
   ]
  },
  {
   "cell_type": "code",
   "execution_count": null,
   "id": "controlled-greensboro",
   "metadata": {},
   "outputs": [],
   "source": [
    "# simulation variables\n",
    "simComplexH = function(E, a = 0.0, a1 = 0.5, b0 = 0.3, b1 = 0.2, \n",
    "    hg = 0.3, he = 0.3, hge = 0.2, print = FALSE) {\n",
    "    \n",
    "    n = length(E)\n",
    "    G = rnorm(n)\n",
    "\n",
    "    hd = 1 - (hg + he + hge)\n",
    "    if (print) print(paste0(\"Total sum of coefficients: \", sum(hg, he, hge, hd)))   \n",
    "\n",
    "    hg = sqrt(hg)\n",
    "    he = sqrt(he)\n",
    "    hge = sqrt(hge)\n",
    "    hd = sqrt(hd)\n",
    "    \n",
    "    ys = hg * G + he * E + hge * G * E\n",
    "\n",
    "    if (print) {\n",
    "    \n",
    "    print(paste0(\"Sigma intercept: \", b0*hd))\n",
    "    print(paste0(\"Sigma slope: \", b1 * hd))\n",
    "    }\n",
    "    \n",
    "    sigma = exp(b0 * hd  + b1 * hd * E)\n",
    "    eps = rnorm(n, 0, sigma)\n",
    "    y = a + a1 * E + (b0 + b1 * E) * ys + eps\n",
    "    #y = a + (b0 + b1 * E) * ys + eps\n",
    "    dat = data.table(y, G, E)\n",
    "}"
   ]
  },
  {
   "cell_type": "code",
   "execution_count": null,
   "id": "simplified-prompt",
   "metadata": {},
   "outputs": [],
   "source": [
    "E = rnorm(5000)\n",
    "dd = replicate(10, simComplexH(E), simplify = FALSE)"
   ]
  },
  {
   "cell_type": "code",
   "execution_count": null,
   "id": "military-nickel",
   "metadata": {},
   "outputs": [],
   "source": [
    "cat(screenreg(list( \n",
    "    lm(y ~ G + E + E*G, data = dd[[1]]))))"
   ]
  },
  {
   "cell_type": "code",
   "execution_count": null,
   "id": "authorized-interference",
   "metadata": {},
   "outputs": [],
   "source": [
    "f = bf(y ~ G + E + E * G, sigma ~ E)\n",
    "test = brm_multiple(f, data = dd)"
   ]
  },
  {
   "cell_type": "code",
   "execution_count": null,
   "id": "living-grain",
   "metadata": {},
   "outputs": [],
   "source": [
    "suppressWarnings(cat(screenreg(test, \n",
    "    include.rsquared = FALSE,\n",
    "    include.nobs = TRUE,\n",
    "    include.loo.ic = FALSE,\n",
    "    reloo = FALSE,\n",
    "    include.waic = FALSE)))"
   ]
  },
  {
   "cell_type": "code",
   "execution_count": null,
   "id": "quiet-title",
   "metadata": {},
   "outputs": [],
   "source": [
    "hyp <- \"G * sigma_E = G:E * sigma_Intercept\"\n",
    "(hyp <- hypothesis(test, hyp, alpha = 0.05))"
   ]
  },
  {
   "cell_type": "code",
   "execution_count": null,
   "id": "common-folder",
   "metadata": {},
   "outputs": [],
   "source": [
    "plot(hyp)"
   ]
  },
  {
   "cell_type": "code",
   "execution_count": null,
   "id": "abstract-circle",
   "metadata": {},
   "outputs": [],
   "source": [
    "# magnitude of the departure from the scaling model as a proportion of the total GxE effect\n",
    "hist(decompR(test))"
   ]
  },
  {
   "cell_type": "code",
   "execution_count": 90,
   "id": "judicial-capacity",
   "metadata": {},
   "outputs": [
    {
     "name": "stderr",
     "output_type": "stream",
     "text": [
      "Compiling Stan program...\n",
      "\n",
      "Start sampling\n",
      "\n"
     ]
    },
    {
     "name": "stdout",
     "output_type": "stream",
     "text": [
      "\n",
      "SAMPLING FOR MODEL 'c3641cc15f22bbf603fe8c6c59a576b6' NOW (CHAIN 1).\n",
      "Chain 1: \n",
      "Chain 1: Gradient evaluation took 3.4e-05 seconds\n",
      "Chain 1: 1000 transitions using 10 leapfrog steps per transition would take 0.34 seconds.\n",
      "Chain 1: Adjust your expectations accordingly!\n",
      "Chain 1: \n",
      "Chain 1: \n",
      "Chain 1: Iteration:    1 / 2000 [  0%]  (Warmup)\n",
      "Chain 1: Iteration:  200 / 2000 [ 10%]  (Warmup)\n",
      "Chain 1: Iteration:  400 / 2000 [ 20%]  (Warmup)\n",
      "Chain 1: Iteration:  600 / 2000 [ 30%]  (Warmup)\n",
      "Chain 1: Iteration:  800 / 2000 [ 40%]  (Warmup)\n",
      "Chain 1: Iteration: 1000 / 2000 [ 50%]  (Warmup)\n",
      "Chain 1: Iteration: 1001 / 2000 [ 50%]  (Sampling)\n",
      "Chain 1: Iteration: 1200 / 2000 [ 60%]  (Sampling)\n",
      "Chain 1: Iteration: 1400 / 2000 [ 70%]  (Sampling)\n",
      "Chain 1: Iteration: 1600 / 2000 [ 80%]  (Sampling)\n",
      "Chain 1: Iteration: 1800 / 2000 [ 90%]  (Sampling)\n",
      "Chain 1: Iteration: 2000 / 2000 [100%]  (Sampling)\n",
      "Chain 1: \n",
      "Chain 1:  Elapsed Time: 0.039158 seconds (Warm-up)\n",
      "Chain 1:                0.03784 seconds (Sampling)\n",
      "Chain 1:                0.076998 seconds (Total)\n",
      "Chain 1: \n",
      "\n",
      "SAMPLING FOR MODEL 'c3641cc15f22bbf603fe8c6c59a576b6' NOW (CHAIN 2).\n",
      "Chain 2: \n",
      "Chain 2: Gradient evaluation took 1.3e-05 seconds\n",
      "Chain 2: 1000 transitions using 10 leapfrog steps per transition would take 0.13 seconds.\n",
      "Chain 2: Adjust your expectations accordingly!\n",
      "Chain 2: \n",
      "Chain 2: \n",
      "Chain 2: Iteration:    1 / 2000 [  0%]  (Warmup)\n",
      "Chain 2: Iteration:  200 / 2000 [ 10%]  (Warmup)\n",
      "Chain 2: Iteration:  400 / 2000 [ 20%]  (Warmup)\n",
      "Chain 2: Iteration:  600 / 2000 [ 30%]  (Warmup)\n",
      "Chain 2: Iteration:  800 / 2000 [ 40%]  (Warmup)\n",
      "Chain 2: Iteration: 1000 / 2000 [ 50%]  (Warmup)\n",
      "Chain 2: Iteration: 1001 / 2000 [ 50%]  (Sampling)\n",
      "Chain 2: Iteration: 1200 / 2000 [ 60%]  (Sampling)\n",
      "Chain 2: Iteration: 1400 / 2000 [ 70%]  (Sampling)\n",
      "Chain 2: Iteration: 1600 / 2000 [ 80%]  (Sampling)\n",
      "Chain 2: Iteration: 1800 / 2000 [ 90%]  (Sampling)\n",
      "Chain 2: Iteration: 2000 / 2000 [100%]  (Sampling)\n",
      "Chain 2: \n",
      "Chain 2:  Elapsed Time: 0.0369 seconds (Warm-up)\n",
      "Chain 2:                0.034101 seconds (Sampling)\n",
      "Chain 2:                0.071001 seconds (Total)\n",
      "Chain 2: \n",
      "\n",
      "SAMPLING FOR MODEL 'c3641cc15f22bbf603fe8c6c59a576b6' NOW (CHAIN 3).\n",
      "Chain 3: \n",
      "Chain 3: Gradient evaluation took 1.3e-05 seconds\n",
      "Chain 3: 1000 transitions using 10 leapfrog steps per transition would take 0.13 seconds.\n",
      "Chain 3: Adjust your expectations accordingly!\n",
      "Chain 3: \n",
      "Chain 3: \n",
      "Chain 3: Iteration:    1 / 2000 [  0%]  (Warmup)\n",
      "Chain 3: Iteration:  200 / 2000 [ 10%]  (Warmup)\n",
      "Chain 3: Iteration:  400 / 2000 [ 20%]  (Warmup)\n",
      "Chain 3: Iteration:  600 / 2000 [ 30%]  (Warmup)\n",
      "Chain 3: Iteration:  800 / 2000 [ 40%]  (Warmup)\n",
      "Chain 3: Iteration: 1000 / 2000 [ 50%]  (Warmup)\n",
      "Chain 3: Iteration: 1001 / 2000 [ 50%]  (Sampling)\n",
      "Chain 3: Iteration: 1200 / 2000 [ 60%]  (Sampling)\n",
      "Chain 3: Iteration: 1400 / 2000 [ 70%]  (Sampling)\n",
      "Chain 3: Iteration: 1600 / 2000 [ 80%]  (Sampling)\n",
      "Chain 3: Iteration: 1800 / 2000 [ 90%]  (Sampling)\n",
      "Chain 3: Iteration: 2000 / 2000 [100%]  (Sampling)\n",
      "Chain 3: \n",
      "Chain 3:  Elapsed Time: 0.038521 seconds (Warm-up)\n",
      "Chain 3:                0.037268 seconds (Sampling)\n",
      "Chain 3:                0.075789 seconds (Total)\n",
      "Chain 3: \n",
      "\n",
      "SAMPLING FOR MODEL 'c3641cc15f22bbf603fe8c6c59a576b6' NOW (CHAIN 4).\n",
      "Chain 4: \n",
      "Chain 4: Gradient evaluation took 1.2e-05 seconds\n",
      "Chain 4: 1000 transitions using 10 leapfrog steps per transition would take 0.12 seconds.\n",
      "Chain 4: Adjust your expectations accordingly!\n",
      "Chain 4: \n",
      "Chain 4: \n",
      "Chain 4: Iteration:    1 / 2000 [  0%]  (Warmup)\n",
      "Chain 4: Iteration:  200 / 2000 [ 10%]  (Warmup)\n",
      "Chain 4: Iteration:  400 / 2000 [ 20%]  (Warmup)\n",
      "Chain 4: Iteration:  600 / 2000 [ 30%]  (Warmup)\n",
      "Chain 4: Iteration:  800 / 2000 [ 40%]  (Warmup)\n",
      "Chain 4: Iteration: 1000 / 2000 [ 50%]  (Warmup)\n",
      "Chain 4: Iteration: 1001 / 2000 [ 50%]  (Sampling)\n",
      "Chain 4: Iteration: 1200 / 2000 [ 60%]  (Sampling)\n",
      "Chain 4: Iteration: 1400 / 2000 [ 70%]  (Sampling)\n",
      "Chain 4: Iteration: 1600 / 2000 [ 80%]  (Sampling)\n",
      "Chain 4: Iteration: 1800 / 2000 [ 90%]  (Sampling)\n",
      "Chain 4: Iteration: 2000 / 2000 [100%]  (Sampling)\n",
      "Chain 4: \n",
      "Chain 4:  Elapsed Time: 0.039376 seconds (Warm-up)\n",
      "Chain 4:                0.034603 seconds (Sampling)\n",
      "Chain 4:                0.073979 seconds (Total)\n",
      "Chain 4: \n"
     ]
    },
    {
     "data": {
      "text/plain": [
       " Family: gaussian \n",
       "  Links: mu = identity; sigma = identity \n",
       "Formula: rating ~ treat + period + carry \n",
       "   Data: inhaler (Number of observations: 572) \n",
       "Samples: 4 chains, each with iter = 2000; warmup = 1000; thin = 1;\n",
       "         total post-warmup samples = 4000\n",
       "\n",
       "Population-Level Effects: \n",
       "          Estimate Est.Error l-95% CI u-95% CI Rhat Bulk_ESS Tail_ESS\n",
       "Intercept     1.43      0.03     1.38     1.48 1.00     4486     2520\n",
       "treat        -0.25      0.07    -0.39    -0.11 1.00     3658     2992\n",
       "period        0.05      0.05    -0.05     0.16 1.00     5116     2878\n",
       "carry        -0.04      0.05    -0.15     0.05 1.00     3697     3122\n",
       "\n",
       "Family Specific Parameters: \n",
       "      Estimate Est.Error l-95% CI u-95% CI Rhat Bulk_ESS Tail_ESS\n",
       "sigma     0.61      0.02     0.57     0.65 1.00     4943     2882\n",
       "\n",
       "Samples were drawn using sampling(NUTS). For each parameter, Bulk_ESS\n",
       "and Tail_ESS are effective sample size measures, and Rhat is the potential\n",
       "scale reduction factor on split chains (at convergence, Rhat = 1)."
      ]
     },
     "metadata": {},
     "output_type": "display_data"
    },
    {
     "name": "stderr",
     "output_type": "stream",
     "text": [
      "Compiling Stan program...\n",
      "\n",
      "recompiling to avoid crashing R session\n",
      "\n",
      "Start sampling\n",
      "\n"
     ]
    },
    {
     "name": "stdout",
     "output_type": "stream",
     "text": [
      "\n",
      "SAMPLING FOR MODEL 'c3641cc15f22bbf603fe8c6c59a576b6' NOW (CHAIN 1).\n",
      "Chain 1: \n",
      "Chain 1: Gradient evaluation took 2.6e-05 seconds\n",
      "Chain 1: 1000 transitions using 10 leapfrog steps per transition would take 0.26 seconds.\n",
      "Chain 1: Adjust your expectations accordingly!\n",
      "Chain 1: \n",
      "Chain 1: \n",
      "Chain 1: Iteration:    1 / 2000 [  0%]  (Warmup)\n",
      "Chain 1: Iteration:  200 / 2000 [ 10%]  (Warmup)\n",
      "Chain 1: Iteration:  400 / 2000 [ 20%]  (Warmup)\n",
      "Chain 1: Iteration:  600 / 2000 [ 30%]  (Warmup)\n",
      "Chain 1: Iteration:  800 / 2000 [ 40%]  (Warmup)\n",
      "Chain 1: Iteration: 1000 / 2000 [ 50%]  (Warmup)\n",
      "Chain 1: Iteration: 1001 / 2000 [ 50%]  (Sampling)\n",
      "Chain 1: Iteration: 1200 / 2000 [ 60%]  (Sampling)\n",
      "Chain 1: Iteration: 1400 / 2000 [ 70%]  (Sampling)\n",
      "Chain 1: Iteration: 1600 / 2000 [ 80%]  (Sampling)\n",
      "Chain 1: Iteration: 1800 / 2000 [ 90%]  (Sampling)\n",
      "Chain 1: Iteration: 2000 / 2000 [100%]  (Sampling)\n",
      "Chain 1: \n",
      "Chain 1:  Elapsed Time: 0.024079 seconds (Warm-up)\n",
      "Chain 1:                0.028177 seconds (Sampling)\n",
      "Chain 1:                0.052256 seconds (Total)\n",
      "Chain 1: \n",
      "\n",
      "SAMPLING FOR MODEL 'c3641cc15f22bbf603fe8c6c59a576b6' NOW (CHAIN 2).\n",
      "Chain 2: \n",
      "Chain 2: Gradient evaluation took 1.3e-05 seconds\n",
      "Chain 2: 1000 transitions using 10 leapfrog steps per transition would take 0.13 seconds.\n",
      "Chain 2: Adjust your expectations accordingly!\n",
      "Chain 2: \n",
      "Chain 2: \n",
      "Chain 2: Iteration:    1 / 2000 [  0%]  (Warmup)\n",
      "Chain 2: Iteration:  200 / 2000 [ 10%]  (Warmup)\n",
      "Chain 2: Iteration:  400 / 2000 [ 20%]  (Warmup)\n",
      "Chain 2: Iteration:  600 / 2000 [ 30%]  (Warmup)\n",
      "Chain 2: Iteration:  800 / 2000 [ 40%]  (Warmup)\n",
      "Chain 2: Iteration: 1000 / 2000 [ 50%]  (Warmup)\n",
      "Chain 2: Iteration: 1001 / 2000 [ 50%]  (Sampling)\n",
      "Chain 2: Iteration: 1200 / 2000 [ 60%]  (Sampling)\n",
      "Chain 2: Iteration: 1400 / 2000 [ 70%]  (Sampling)\n",
      "Chain 2: Iteration: 1600 / 2000 [ 80%]  (Sampling)\n",
      "Chain 2: Iteration: 1800 / 2000 [ 90%]  (Sampling)\n",
      "Chain 2: Iteration: 2000 / 2000 [100%]  (Sampling)\n",
      "Chain 2: \n",
      "Chain 2:  Elapsed Time: 0.025701 seconds (Warm-up)\n",
      "Chain 2:                0.024226 seconds (Sampling)\n",
      "Chain 2:                0.049927 seconds (Total)\n",
      "Chain 2: \n",
      "\n",
      "SAMPLING FOR MODEL 'c3641cc15f22bbf603fe8c6c59a576b6' NOW (CHAIN 3).\n",
      "Chain 3: \n",
      "Chain 3: Gradient evaluation took 1.4e-05 seconds\n",
      "Chain 3: 1000 transitions using 10 leapfrog steps per transition would take 0.14 seconds.\n",
      "Chain 3: Adjust your expectations accordingly!\n",
      "Chain 3: \n",
      "Chain 3: \n",
      "Chain 3: Iteration:    1 / 2000 [  0%]  (Warmup)\n",
      "Chain 3: Iteration:  200 / 2000 [ 10%]  (Warmup)\n",
      "Chain 3: Iteration:  400 / 2000 [ 20%]  (Warmup)\n",
      "Chain 3: Iteration:  600 / 2000 [ 30%]  (Warmup)\n",
      "Chain 3: Iteration:  800 / 2000 [ 40%]  (Warmup)\n",
      "Chain 3: Iteration: 1000 / 2000 [ 50%]  (Warmup)\n",
      "Chain 3: Iteration: 1001 / 2000 [ 50%]  (Sampling)\n",
      "Chain 3: Iteration: 1200 / 2000 [ 60%]  (Sampling)\n",
      "Chain 3: Iteration: 1400 / 2000 [ 70%]  (Sampling)\n",
      "Chain 3: Iteration: 1600 / 2000 [ 80%]  (Sampling)\n",
      "Chain 3: Iteration: 1800 / 2000 [ 90%]  (Sampling)\n",
      "Chain 3: Iteration: 2000 / 2000 [100%]  (Sampling)\n",
      "Chain 3: \n",
      "Chain 3:  Elapsed Time: 0.024616 seconds (Warm-up)\n",
      "Chain 3:                0.025518 seconds (Sampling)\n",
      "Chain 3:                0.050134 seconds (Total)\n",
      "Chain 3: \n",
      "\n",
      "SAMPLING FOR MODEL 'c3641cc15f22bbf603fe8c6c59a576b6' NOW (CHAIN 4).\n",
      "Chain 4: \n",
      "Chain 4: Gradient evaluation took 1e-05 seconds\n",
      "Chain 4: 1000 transitions using 10 leapfrog steps per transition would take 0.1 seconds.\n",
      "Chain 4: Adjust your expectations accordingly!\n",
      "Chain 4: \n",
      "Chain 4: \n",
      "Chain 4: Iteration:    1 / 2000 [  0%]  (Warmup)\n",
      "Chain 4: Iteration:  200 / 2000 [ 10%]  (Warmup)\n",
      "Chain 4: Iteration:  400 / 2000 [ 20%]  (Warmup)\n",
      "Chain 4: Iteration:  600 / 2000 [ 30%]  (Warmup)\n",
      "Chain 4: Iteration:  800 / 2000 [ 40%]  (Warmup)\n",
      "Chain 4: Iteration: 1000 / 2000 [ 50%]  (Warmup)\n",
      "Chain 4: Iteration: 1001 / 2000 [ 50%]  (Sampling)\n",
      "Chain 4: Iteration: 1200 / 2000 [ 60%]  (Sampling)\n",
      "Chain 4: Iteration: 1400 / 2000 [ 70%]  (Sampling)\n",
      "Chain 4: Iteration: 1600 / 2000 [ 80%]  (Sampling)\n",
      "Chain 4: Iteration: 1800 / 2000 [ 90%]  (Sampling)\n",
      "Chain 4: Iteration: 2000 / 2000 [100%]  (Sampling)\n",
      "Chain 4: \n",
      "Chain 4:  Elapsed Time: 0.025178 seconds (Warm-up)\n",
      "Chain 4:                0.025812 seconds (Sampling)\n",
      "Chain 4:                0.05099 seconds (Total)\n",
      "Chain 4: \n"
     ]
    },
    {
     "data": {
      "text/plain": [
       " Family: gaussian \n",
       "  Links: mu = identity; sigma = identity \n",
       "Formula: rating ~ period + carry \n",
       "   Data: inhaler (Number of observations: 572) \n",
       "Samples: 4 chains, each with iter = 2000; warmup = 1000; thin = 1;\n",
       "         total post-warmup samples = 4000\n",
       "\n",
       "Population-Level Effects: \n",
       "          Estimate Est.Error l-95% CI u-95% CI Rhat Bulk_ESS Tail_ESS\n",
       "Intercept     1.43      0.03     1.38     1.48 1.00     4373     2989\n",
       "period        0.05      0.05    -0.05     0.16 1.00     4368     2918\n",
       "carry        -0.17      0.04    -0.24    -0.10 1.00     4347     2646\n",
       "\n",
       "Family Specific Parameters: \n",
       "      Estimate Est.Error l-95% CI u-95% CI Rhat Bulk_ESS Tail_ESS\n",
       "sigma     0.61      0.02     0.58     0.65 1.00     4109     3133\n",
       "\n",
       "Samples were drawn using sampling(NUTS). For each parameter, Bulk_ESS\n",
       "and Tail_ESS are effective sample size measures, and Rhat is the potential\n",
       "scale reduction factor on split chains (at convergence, Rhat = 1)."
      ]
     },
     "metadata": {},
     "output_type": "display_data"
    },
    {
     "data": {
      "text/html": [
       "<table class=\"dataframe\">\n",
       "<caption>A data.frame: 4 × 3</caption>\n",
       "<thead>\n",
       "\t<tr><th></th><th scope=col>treat</th><th scope=col>period</th><th scope=col>carry</th></tr>\n",
       "\t<tr><th></th><th scope=col>&lt;dbl&gt;</th><th scope=col>&lt;dbl&gt;</th><th scope=col>&lt;dbl&gt;</th></tr>\n",
       "</thead>\n",
       "<tbody>\n",
       "\t<tr><th scope=row>1</th><td> 0.5</td><td> 0.5</td><td> 0</td></tr>\n",
       "\t<tr><th scope=row>60</th><td>-0.5</td><td> 0.5</td><td> 0</td></tr>\n",
       "\t<tr><th scope=row>287</th><td>-0.5</td><td>-0.5</td><td>-1</td></tr>\n",
       "\t<tr><th scope=row>346</th><td> 0.5</td><td>-0.5</td><td> 1</td></tr>\n",
       "</tbody>\n",
       "</table>\n"
      ],
      "text/latex": [
       "A data.frame: 4 × 3\n",
       "\\begin{tabular}{r|lll}\n",
       "  & treat & period & carry\\\\\n",
       "  & <dbl> & <dbl> & <dbl>\\\\\n",
       "\\hline\n",
       "\t1 &  0.5 &  0.5 &  0\\\\\n",
       "\t60 & -0.5 &  0.5 &  0\\\\\n",
       "\t287 & -0.5 & -0.5 & -1\\\\\n",
       "\t346 &  0.5 & -0.5 &  1\\\\\n",
       "\\end{tabular}\n"
      ],
      "text/markdown": [
       "\n",
       "A data.frame: 4 × 3\n",
       "\n",
       "| <!--/--> | treat &lt;dbl&gt; | period &lt;dbl&gt; | carry &lt;dbl&gt; |\n",
       "|---|---|---|---|\n",
       "| 1 |  0.5 |  0.5 |  0 |\n",
       "| 60 | -0.5 |  0.5 |  0 |\n",
       "| 287 | -0.5 | -0.5 | -1 |\n",
       "| 346 |  0.5 | -0.5 |  1 |\n",
       "\n"
      ],
      "text/plain": [
       "    treat period carry\n",
       "1    0.5   0.5    0   \n",
       "60  -0.5   0.5    0   \n",
       "287 -0.5  -0.5   -1   \n",
       "346  0.5  -0.5    1   "
      ]
     },
     "metadata": {},
     "output_type": "display_data"
    },
    {
     "data": {
      "text/html": [
       "<table class=\"dataframe\">\n",
       "<caption>A matrix: 4 × 4 of type dbl</caption>\n",
       "<thead>\n",
       "\t<tr><th scope=col>Estimate</th><th scope=col>Est.Error</th><th scope=col>Q2.5</th><th scope=col>Q97.5</th></tr>\n",
       "</thead>\n",
       "<tbody>\n",
       "\t<tr><td>1.345670</td><td>0.6165974</td><td> 0.129117108</td><td>2.559994</td></tr>\n",
       "\t<tr><td>1.588605</td><td>0.6143022</td><td> 0.400964768</td><td>2.795589</td></tr>\n",
       "\t<tr><td>1.571377</td><td>0.6140600</td><td> 0.367283615</td><td>2.777377</td></tr>\n",
       "\t<tr><td>1.231711</td><td>0.6249903</td><td>-0.008284768</td><td>2.442849</td></tr>\n",
       "</tbody>\n",
       "</table>\n"
      ],
      "text/latex": [
       "A matrix: 4 × 4 of type dbl\n",
       "\\begin{tabular}{llll}\n",
       " Estimate & Est.Error & Q2.5 & Q97.5\\\\\n",
       "\\hline\n",
       "\t 1.345670 & 0.6165974 &  0.129117108 & 2.559994\\\\\n",
       "\t 1.588605 & 0.6143022 &  0.400964768 & 2.795589\\\\\n",
       "\t 1.571377 & 0.6140600 &  0.367283615 & 2.777377\\\\\n",
       "\t 1.231711 & 0.6249903 & -0.008284768 & 2.442849\\\\\n",
       "\\end{tabular}\n"
      ],
      "text/markdown": [
       "\n",
       "A matrix: 4 × 4 of type dbl\n",
       "\n",
       "| Estimate | Est.Error | Q2.5 | Q97.5 |\n",
       "|---|---|---|---|\n",
       "| 1.345670 | 0.6165974 |  0.129117108 | 2.559994 |\n",
       "| 1.588605 | 0.6143022 |  0.400964768 | 2.795589 |\n",
       "| 1.571377 | 0.6140600 |  0.367283615 | 2.777377 |\n",
       "| 1.231711 | 0.6249903 | -0.008284768 | 2.442849 |\n",
       "\n"
      ],
      "text/plain": [
       "     Estimate Est.Error Q2.5         Q97.5   \n",
       "[1,] 1.345670 0.6165974  0.129117108 2.559994\n",
       "[2,] 1.588605 0.6143022  0.400964768 2.795589\n",
       "[3,] 1.571377 0.6140600  0.367283615 2.777377\n",
       "[4,] 1.231711 0.6249903 -0.008284768 2.442849"
      ]
     },
     "metadata": {},
     "output_type": "display_data"
    }
   ],
   "source": [
    "# model with 'treat' as predictor\n",
    "fit1 <- brm(rating ~ treat + period + carry, data = inhaler)\n",
    "summary(fit1)\n",
    "\n",
    "# model without 'treat' as predictor\n",
    "fit2 <- brm(rating ~ period + carry, data = inhaler)\n",
    "summary(fit2)\n",
    "\n",
    "# compute model-averaged predicted values\n",
    "(df <- unique(inhaler[, c(\"treat\", \"period\", \"carry\")]))\n",
    "pp_average(fit1, fit2, newdata = df)"
   ]
  },
  {
   "cell_type": "code",
   "execution_count": 92,
   "id": "copyrighted-advertiser",
   "metadata": {},
   "outputs": [],
   "source": [
    "models = list(fit1, fit2)"
   ]
  },
  {
   "cell_type": "code",
   "execution_count": 94,
   "id": "sharp-budget",
   "metadata": {},
   "outputs": [
    {
     "data": {
      "text/html": [
       "<table class=\"dataframe\">\n",
       "<caption>A matrix: 4 × 4 of type dbl</caption>\n",
       "<thead>\n",
       "\t<tr><th scope=col>Estimate</th><th scope=col>Est.Error</th><th scope=col>Q2.5</th><th scope=col>Q97.5</th></tr>\n",
       "</thead>\n",
       "<tbody>\n",
       "\t<tr><td>1.346401</td><td>0.6047186</td><td>0.14856693</td><td>2.519132</td></tr>\n",
       "\t<tr><td>1.568425</td><td>0.6184052</td><td>0.36486419</td><td>2.806147</td></tr>\n",
       "\t<tr><td>1.596783</td><td>0.6137072</td><td>0.40129037</td><td>2.795057</td></tr>\n",
       "\t<tr><td>1.233666</td><td>0.6208822</td><td>0.03564727</td><td>2.465377</td></tr>\n",
       "</tbody>\n",
       "</table>\n"
      ],
      "text/latex": [
       "A matrix: 4 × 4 of type dbl\n",
       "\\begin{tabular}{llll}\n",
       " Estimate & Est.Error & Q2.5 & Q97.5\\\\\n",
       "\\hline\n",
       "\t 1.346401 & 0.6047186 & 0.14856693 & 2.519132\\\\\n",
       "\t 1.568425 & 0.6184052 & 0.36486419 & 2.806147\\\\\n",
       "\t 1.596783 & 0.6137072 & 0.40129037 & 2.795057\\\\\n",
       "\t 1.233666 & 0.6208822 & 0.03564727 & 2.465377\\\\\n",
       "\\end{tabular}\n"
      ],
      "text/markdown": [
       "\n",
       "A matrix: 4 × 4 of type dbl\n",
       "\n",
       "| Estimate | Est.Error | Q2.5 | Q97.5 |\n",
       "|---|---|---|---|\n",
       "| 1.346401 | 0.6047186 | 0.14856693 | 2.519132 |\n",
       "| 1.568425 | 0.6184052 | 0.36486419 | 2.806147 |\n",
       "| 1.596783 | 0.6137072 | 0.40129037 | 2.795057 |\n",
       "| 1.233666 | 0.6208822 | 0.03564727 | 2.465377 |\n",
       "\n"
      ],
      "text/plain": [
       "     Estimate Est.Error Q2.5       Q97.5   \n",
       "[1,] 1.346401 0.6047186 0.14856693 2.519132\n",
       "[2,] 1.568425 0.6184052 0.36486419 2.806147\n",
       "[3,] 1.596783 0.6137072 0.40129037 2.795057\n",
       "[4,] 1.233666 0.6208822 0.03564727 2.465377"
      ]
     },
     "metadata": {},
     "output_type": "display_data"
    }
   ],
   "source": [
    "pp_average(models[[1]], models[[2]], newdata = df)"
   ]
  },
  {
   "cell_type": "code",
   "execution_count": 120,
   "id": "acute-gasoline",
   "metadata": {},
   "outputs": [
    {
     "data": {
      "text/html": [
       "<table class=\"dataframe\">\n",
       "<caption>A matrix: 4 × 4 of type dbl</caption>\n",
       "<thead>\n",
       "\t<tr><th scope=col>Estimate</th><th scope=col>Est.Error</th><th scope=col>Q2.5</th><th scope=col>Q97.5</th></tr>\n",
       "</thead>\n",
       "<tbody>\n",
       "\t<tr><td>1.433093</td><td>0.6158400</td><td>0.2332975</td><td>2.626969</td></tr>\n",
       "\t<tr><td>1.499231</td><td>0.6253996</td><td>0.2474564</td><td>2.733737</td></tr>\n",
       "\t<tr><td>1.574194</td><td>0.6107296</td><td>0.3988573</td><td>2.773741</td></tr>\n",
       "\t<tr><td>1.234223</td><td>0.6097361</td><td>0.0328062</td><td>2.417956</td></tr>\n",
       "</tbody>\n",
       "</table>\n"
      ],
      "text/latex": [
       "A matrix: 4 × 4 of type dbl\n",
       "\\begin{tabular}{llll}\n",
       " Estimate & Est.Error & Q2.5 & Q97.5\\\\\n",
       "\\hline\n",
       "\t 1.433093 & 0.6158400 & 0.2332975 & 2.626969\\\\\n",
       "\t 1.499231 & 0.6253996 & 0.2474564 & 2.733737\\\\\n",
       "\t 1.574194 & 0.6107296 & 0.3988573 & 2.773741\\\\\n",
       "\t 1.234223 & 0.6097361 & 0.0328062 & 2.417956\\\\\n",
       "\\end{tabular}\n"
      ],
      "text/markdown": [
       "\n",
       "A matrix: 4 × 4 of type dbl\n",
       "\n",
       "| Estimate | Est.Error | Q2.5 | Q97.5 |\n",
       "|---|---|---|---|\n",
       "| 1.433093 | 0.6158400 | 0.2332975 | 2.626969 |\n",
       "| 1.499231 | 0.6253996 | 0.2474564 | 2.733737 |\n",
       "| 1.574194 | 0.6107296 | 0.3988573 | 2.773741 |\n",
       "| 1.234223 | 0.6097361 | 0.0328062 | 2.417956 |\n",
       "\n"
      ],
      "text/plain": [
       "     Estimate Est.Error Q2.5      Q97.5   \n",
       "[1,] 1.433093 0.6158400 0.2332975 2.626969\n",
       "[2,] 1.499231 0.6253996 0.2474564 2.733737\n",
       "[3,] 1.574194 0.6107296 0.3988573 2.773741\n",
       "[4,] 1.234223 0.6097361 0.0328062 2.417956"
      ]
     },
     "metadata": {},
     "output_type": "display_data"
    }
   ],
   "source": [
    "invoke(pp_average, models, newdata = df, weights = c(0.3, 0.70),summary = TRUE)"
   ]
  },
  {
   "cell_type": "code",
   "execution_count": 135,
   "id": "composite-breach",
   "metadata": {},
   "outputs": [],
   "source": [
    "test = list(\"2002\" = c(1, 2,3, 4), \"2004\" = c(6, 7, 8, 9))"
   ]
  },
  {
   "cell_type": "code",
   "execution_count": 136,
   "id": "lined-recycling",
   "metadata": {},
   "outputs": [],
   "source": [
    "a = setDT(test)"
   ]
  },
  {
   "cell_type": "code",
   "execution_count": 138,
   "id": "norman-transparency",
   "metadata": {},
   "outputs": [
    {
     "data": {
      "text/html": [
       "<table class=\"dataframe\">\n",
       "<caption>A data.table: 4 × 2</caption>\n",
       "<thead>\n",
       "\t<tr><th scope=col>2002</th><th scope=col>2004</th></tr>\n",
       "\t<tr><th scope=col>&lt;dbl&gt;</th><th scope=col>&lt;dbl&gt;</th></tr>\n",
       "</thead>\n",
       "<tbody>\n",
       "\t<tr><td>1</td><td>6</td></tr>\n",
       "\t<tr><td>2</td><td>7</td></tr>\n",
       "\t<tr><td>3</td><td>8</td></tr>\n",
       "\t<tr><td>4</td><td>9</td></tr>\n",
       "</tbody>\n",
       "</table>\n"
      ],
      "text/latex": [
       "A data.table: 4 × 2\n",
       "\\begin{tabular}{ll}\n",
       " 2002 & 2004\\\\\n",
       " <dbl> & <dbl>\\\\\n",
       "\\hline\n",
       "\t 1 & 6\\\\\n",
       "\t 2 & 7\\\\\n",
       "\t 3 & 8\\\\\n",
       "\t 4 & 9\\\\\n",
       "\\end{tabular}\n"
      ],
      "text/markdown": [
       "\n",
       "A data.table: 4 × 2\n",
       "\n",
       "| 2002 &lt;dbl&gt; | 2004 &lt;dbl&gt; |\n",
       "|---|---|\n",
       "| 1 | 6 |\n",
       "| 2 | 7 |\n",
       "| 3 | 8 |\n",
       "| 4 | 9 |\n",
       "\n"
      ],
      "text/plain": [
       "  2002 2004\n",
       "1 1    6   \n",
       "2 2    7   \n",
       "3 3    8   \n",
       "4 4    9   "
      ]
     },
     "metadata": {},
     "output_type": "display_data"
    }
   ],
   "source": [
    "a"
   ]
  },
  {
   "cell_type": "code",
   "execution_count": null,
   "id": "psychological-delay",
   "metadata": {},
   "outputs": [],
   "source": []
  }
 ],
 "metadata": {
  "kernelspec": {
   "display_name": "R",
   "language": "R",
   "name": "ir"
  },
  "language_info": {
   "codemirror_mode": "r",
   "file_extension": ".r",
   "mimetype": "text/x-r-source",
   "name": "R",
   "pygments_lexer": "r",
   "version": "4.0.4"
  }
 },
 "nbformat": 4,
 "nbformat_minor": 5
}
